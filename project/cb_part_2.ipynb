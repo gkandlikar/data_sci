{
 "metadata": {
  "name": ""
 },
 "nbformat": 3,
 "nbformat_minor": 0,
 "worksheets": [
  {
   "cells": [
    {
     "cell_type": "code",
     "collapsed": false,
     "input": [
      "import json, httplib, pprint\n",
      "import os, codecs, sys\n",
      "\n",
      "API_KEY = open('/Users/gk/Desktop/github/keys/cb', 'r').read().strip()\n",
      "MAIN_URL = 'api.crunchbase.com'\n",
      "COMPANIES_EL = '/v/1/companies.js?'\n",
      "OUTPUTDIR='/Users/gk/Desktop/data_sci/crunchbase/data'\n",
      "COMPANY_EI = '/v/1/company/'\n",
      "ERROR_COUNT = 0\n",
      "EXCEPTION_FILE= ''.join((OUTPUTDIR,'/exceptions.txt'))\n",
      "\n",
      "def initiate_connection(url):\n",
      "\treturn httplib.HTTPConnection(url)\n",
      "\n",
      "def generate_description_string(company_detail):\n",
      "    ret_str=''\n",
      "    try:\n",
      "        ret_str='\\n'.join(filter(None, [company_detail[key] for key in ['overview', 'description', 'tag_list']]))\n",
      "    except KeyError:\n",
      "        global ERROR_COUNT, EXCEPTION_FILE\n",
      "        ERROR_COUNT += 1\n",
      "        with codecs.open(EXCEPTION_FILE, 'a') as f:\n",
      "            f.write('\\nERROR #%d: \\n' % ERROR_COUNT)\n",
      "            f.write('\\n'+str(company_detail).encode('ascii', 'xmlcharrefreplace'))\n",
      "        ret_str='see_exceptions_file\\n'  \n",
      "    return ret_str\n",
      "\n",
      "def get_company_overview(cb_conn,permalink):\n",
      "    query=''.join((COMPANY_EI,permalink,'.js?api_key=',API_KEY))\n",
      "    cb_conn.request(\"GET\",query)\n",
      "    ret_str=''\n",
      "    try:\n",
      "        company_detail = cb_conn.getresponse().read()\n",
      "        company_detail = json.loads(company_detail)\n",
      "        ret_str=generate_description_string(company_detail)\n",
      "    except ValueError:\n",
      "        global ERROR_COUNT, EXCEPTION_FILE\n",
      "        ERROR_COUNT += 1\n",
      "        with codecs.open(EXCEPTION_FILE, 'a') as f:\n",
      "            f.write('\\nERROR #%d: \\n' % ERROR_COUNT)\n",
      "            f.write('\\n'+str(company_detail).encode('ascii', 'xmlcharrefreplace'))\n",
      "        ret_str='see_exceptions_file\\n'\n",
      "    return ret_str\n",
      "    \n",
      "\n",
      "def write_to_file(foldername, permalink, file_content):\n",
      "    \n",
      "    path=''.join((OUTPUTDIR,'/',foldername))\n",
      "    #if not exists open up the folder in output directory/foldername/\n",
      "    if not(os.path.isdir(path)):\n",
      "        os.mkdir(path)\n",
      "    #create a file with write permission with named permalink\n",
      "    #write the file_content to the file named permalink    \n",
      "    with codecs.open(''.join((path,'/',permalink)), 'w') as f:\n",
      "        f.write(file_content.encode('ascii', 'xmlcharrefreplace'))\n",
      "\n",
      "    \n",
      "def send_companies_query(cb_conn, query, checked_arr):\n",
      "    cat = ''\n",
      "    cb_conn.request(\"GET\", query)\n",
      "    global EXCEPTION_FILE\n",
      "    try :\n",
      "        val = cb_conn.getresponse().read().replace('][',',')\n",
      "    except ValueError :\n",
      "        global ERROR_COUNT\n",
      "        ERROR_COUNT += 1\n",
      "        with codecs.open(EXCEPTION_FILE, 'a') as f:\n",
      "            f.write('\\nERROR #%d: \\n' % ERROR_COUNT)\n",
      "            f.write('\\n'+val.encode('ascii', 'xmlcharrefreplace'))\n",
      "    response = json.loads(val)\n",
      "    for company in response:\n",
      "        cat=''\n",
      "        if company['permalink'] in checked_arr:\n",
      "            pass\n",
      "        else :\n",
      "            checked_arr.append(company['permalink'])\n",
      "            cat = company['category_code']\n",
      "            if cat==None:\n",
      "                cat = 'test' \n",
      "            write_to_file(cat, company['permalink'], get_company_overview(cb_conn,company['permalink']))\n",
      "    return checked_arr\n",
      "    \n",
      "\n",
      "def companies(checked_arr,checked_file):\n",
      "    cb_connection=initiate_connection(MAIN_URL)\n",
      "    query = \"%sapi_key=%s\" % (COMPANIES_EL, API_KEY)\n",
      "    checked_companies = send_companies_query(cb_connection, query, checked_arr)\n",
      "    with codecs.open(checked_file, 'w') as f:\n",
      "        for company in checked_companies:\n",
      "            f.write('\\n'+company.encode('ascii', 'xmlcharrefreplace'))\n",
      "    cb_connection.close()\n",
      "\n",
      "def already_checked(filepath):\n",
      "    ret_arr = []\n",
      "    with open(filepath, 'r') as f:\n",
      "        for line in f.read():\n",
      "            ret_arr.append(line.strip())\n",
      "    \n",
      "    return ret_arr\n",
      "\n",
      "def main():\n",
      "    checked = ''.join((OUTPUTDIR,'/','checked.txt'))\n",
      "    checked_arr=already_checked(checked)\n",
      "    companies(checked_arr, checked)\n",
      "    exception_file.close()\n",
      "\n",
      "if __name__ == '__main__':\n",
      "\tmain()"
     ],
     "language": "python",
     "metadata": {},
     "outputs": [
      {
       "ename": "KeyboardInterrupt",
       "evalue": "",
       "output_type": "pyerr",
       "traceback": [
        "\u001b[0;31m---------------------------------------------------------------------------\u001b[0m\n\u001b[0;31mKeyboardInterrupt\u001b[0m                         Traceback (most recent call last)",
        "\u001b[0;32m<ipython-input-7-6d245c417a04>\u001b[0m in \u001b[0;36m<module>\u001b[0;34m()\u001b[0m\n\u001b[1;32m    106\u001b[0m \u001b[0;34m\u001b[0m\u001b[0m\n\u001b[1;32m    107\u001b[0m \u001b[0;32mif\u001b[0m \u001b[0m__name__\u001b[0m \u001b[0;34m==\u001b[0m \u001b[0;34m'__main__'\u001b[0m\u001b[0;34m:\u001b[0m\u001b[0;34m\u001b[0m\u001b[0m\n\u001b[0;32m--> 108\u001b[0;31m         \u001b[0mmain\u001b[0m\u001b[0;34m(\u001b[0m\u001b[0;34m)\u001b[0m\u001b[0;34m\u001b[0m\u001b[0m\n\u001b[0m",
        "\u001b[0;32m<ipython-input-7-6d245c417a04>\u001b[0m in \u001b[0;36mmain\u001b[0;34m()\u001b[0m\n\u001b[1;32m    102\u001b[0m     \u001b[0mchecked\u001b[0m \u001b[0;34m=\u001b[0m \u001b[0;34m''\u001b[0m\u001b[0;34m.\u001b[0m\u001b[0mjoin\u001b[0m\u001b[0;34m(\u001b[0m\u001b[0;34m(\u001b[0m\u001b[0mOUTPUTDIR\u001b[0m\u001b[0;34m,\u001b[0m\u001b[0;34m'/'\u001b[0m\u001b[0;34m,\u001b[0m\u001b[0;34m'checked.txt'\u001b[0m\u001b[0;34m)\u001b[0m\u001b[0;34m)\u001b[0m\u001b[0;34m\u001b[0m\u001b[0m\n\u001b[1;32m    103\u001b[0m     \u001b[0mchecked_arr\u001b[0m\u001b[0;34m=\u001b[0m\u001b[0malready_checked\u001b[0m\u001b[0;34m(\u001b[0m\u001b[0mchecked\u001b[0m\u001b[0;34m)\u001b[0m\u001b[0;34m\u001b[0m\u001b[0m\n\u001b[0;32m--> 104\u001b[0;31m     \u001b[0mcompanies\u001b[0m\u001b[0;34m(\u001b[0m\u001b[0mchecked_arr\u001b[0m\u001b[0;34m,\u001b[0m \u001b[0mchecked\u001b[0m\u001b[0;34m)\u001b[0m\u001b[0;34m\u001b[0m\u001b[0m\n\u001b[0m\u001b[1;32m    105\u001b[0m     \u001b[0mexception_file\u001b[0m\u001b[0;34m.\u001b[0m\u001b[0mclose\u001b[0m\u001b[0;34m(\u001b[0m\u001b[0;34m)\u001b[0m\u001b[0;34m\u001b[0m\u001b[0m\n\u001b[1;32m    106\u001b[0m \u001b[0;34m\u001b[0m\u001b[0m\n",
        "\u001b[0;32m<ipython-input-7-6d245c417a04>\u001b[0m in \u001b[0;36mcompanies\u001b[0;34m(checked_arr, checked_file)\u001b[0m\n\u001b[1;32m     85\u001b[0m     \u001b[0mcb_connection\u001b[0m\u001b[0;34m=\u001b[0m\u001b[0minitiate_connection\u001b[0m\u001b[0;34m(\u001b[0m\u001b[0mMAIN_URL\u001b[0m\u001b[0;34m)\u001b[0m\u001b[0;34m\u001b[0m\u001b[0m\n\u001b[1;32m     86\u001b[0m     \u001b[0mquery\u001b[0m \u001b[0;34m=\u001b[0m \u001b[0;34m\"%sapi_key=%s\"\u001b[0m \u001b[0;34m%\u001b[0m \u001b[0;34m(\u001b[0m\u001b[0mCOMPANIES_EL\u001b[0m\u001b[0;34m,\u001b[0m \u001b[0mAPI_KEY\u001b[0m\u001b[0;34m)\u001b[0m\u001b[0;34m\u001b[0m\u001b[0m\n\u001b[0;32m---> 87\u001b[0;31m     \u001b[0mchecked_companies\u001b[0m \u001b[0;34m=\u001b[0m \u001b[0msend_companies_query\u001b[0m\u001b[0;34m(\u001b[0m\u001b[0mcb_connection\u001b[0m\u001b[0;34m,\u001b[0m \u001b[0mquery\u001b[0m\u001b[0;34m,\u001b[0m \u001b[0mchecked_arr\u001b[0m\u001b[0;34m)\u001b[0m\u001b[0;34m\u001b[0m\u001b[0m\n\u001b[0m\u001b[1;32m     88\u001b[0m     \u001b[0;32mwith\u001b[0m \u001b[0mcodecs\u001b[0m\u001b[0;34m.\u001b[0m\u001b[0mopen\u001b[0m\u001b[0;34m(\u001b[0m\u001b[0mchecked_file\u001b[0m\u001b[0;34m,\u001b[0m \u001b[0;34m'w'\u001b[0m\u001b[0;34m)\u001b[0m \u001b[0;32mas\u001b[0m \u001b[0mf\u001b[0m\u001b[0;34m:\u001b[0m\u001b[0;34m\u001b[0m\u001b[0m\n\u001b[1;32m     89\u001b[0m         \u001b[0;32mfor\u001b[0m \u001b[0mcompany\u001b[0m \u001b[0;32min\u001b[0m \u001b[0mchecked_companies\u001b[0m\u001b[0;34m:\u001b[0m\u001b[0;34m\u001b[0m\u001b[0m\n",
        "\u001b[0;32m<ipython-input-7-6d245c417a04>\u001b[0m in \u001b[0;36msend_companies_query\u001b[0;34m(cb_conn, query, checked_arr)\u001b[0m\n\u001b[1;32m     78\u001b[0m             \u001b[0;32mif\u001b[0m \u001b[0mcat\u001b[0m\u001b[0;34m==\u001b[0m\u001b[0mNone\u001b[0m\u001b[0;34m:\u001b[0m\u001b[0;34m\u001b[0m\u001b[0m\n\u001b[1;32m     79\u001b[0m                 \u001b[0mcat\u001b[0m \u001b[0;34m=\u001b[0m \u001b[0;34m'test'\u001b[0m\u001b[0;34m\u001b[0m\u001b[0m\n\u001b[0;32m---> 80\u001b[0;31m             \u001b[0mwrite_to_file\u001b[0m\u001b[0;34m(\u001b[0m\u001b[0mcat\u001b[0m\u001b[0;34m,\u001b[0m \u001b[0mcompany\u001b[0m\u001b[0;34m[\u001b[0m\u001b[0;34m'permalink'\u001b[0m\u001b[0;34m]\u001b[0m\u001b[0;34m,\u001b[0m \u001b[0mget_company_overview\u001b[0m\u001b[0;34m(\u001b[0m\u001b[0mcb_conn\u001b[0m\u001b[0;34m,\u001b[0m\u001b[0mcompany\u001b[0m\u001b[0;34m[\u001b[0m\u001b[0;34m'permalink'\u001b[0m\u001b[0;34m]\u001b[0m\u001b[0;34m)\u001b[0m\u001b[0;34m)\u001b[0m\u001b[0;34m\u001b[0m\u001b[0m\n\u001b[0m\u001b[1;32m     81\u001b[0m     \u001b[0;32mreturn\u001b[0m \u001b[0mchecked_arr\u001b[0m\u001b[0;34m\u001b[0m\u001b[0m\n\u001b[1;32m     82\u001b[0m \u001b[0;34m\u001b[0m\u001b[0m\n",
        "\u001b[0;32m<ipython-input-7-6d245c417a04>\u001b[0m in \u001b[0;36mget_company_overview\u001b[0;34m(cb_conn, permalink)\u001b[0m\n\u001b[1;32m     31\u001b[0m     \u001b[0mret_str\u001b[0m\u001b[0;34m=\u001b[0m\u001b[0;34m''\u001b[0m\u001b[0;34m\u001b[0m\u001b[0m\n\u001b[1;32m     32\u001b[0m     \u001b[0;32mtry\u001b[0m\u001b[0;34m:\u001b[0m\u001b[0;34m\u001b[0m\u001b[0m\n\u001b[0;32m---> 33\u001b[0;31m         \u001b[0mcompany_detail\u001b[0m \u001b[0;34m=\u001b[0m \u001b[0mcb_conn\u001b[0m\u001b[0;34m.\u001b[0m\u001b[0mgetresponse\u001b[0m\u001b[0;34m(\u001b[0m\u001b[0;34m)\u001b[0m\u001b[0;34m.\u001b[0m\u001b[0mread\u001b[0m\u001b[0;34m(\u001b[0m\u001b[0;34m)\u001b[0m\u001b[0;34m\u001b[0m\u001b[0m\n\u001b[0m\u001b[1;32m     34\u001b[0m         \u001b[0mcompany_detail\u001b[0m \u001b[0;34m=\u001b[0m \u001b[0mjson\u001b[0m\u001b[0;34m.\u001b[0m\u001b[0mloads\u001b[0m\u001b[0;34m(\u001b[0m\u001b[0mcompany_detail\u001b[0m\u001b[0;34m)\u001b[0m\u001b[0;34m\u001b[0m\u001b[0m\n\u001b[1;32m     35\u001b[0m         \u001b[0mret_str\u001b[0m\u001b[0;34m=\u001b[0m\u001b[0mgenerate_description_string\u001b[0m\u001b[0;34m(\u001b[0m\u001b[0mcompany_detail\u001b[0m\u001b[0;34m)\u001b[0m\u001b[0;34m\u001b[0m\u001b[0m\n",
        "\u001b[0;32m/Users/gk/anaconda/python.app/Contents/lib/python2.7/httplib.pyc\u001b[0m in \u001b[0;36mgetresponse\u001b[0;34m(self, buffering)\u001b[0m\n\u001b[1;32m   1043\u001b[0m         \u001b[0mresponse\u001b[0m \u001b[0;34m=\u001b[0m \u001b[0mself\u001b[0m\u001b[0;34m.\u001b[0m\u001b[0mresponse_class\u001b[0m\u001b[0;34m(\u001b[0m\u001b[0;34m*\u001b[0m\u001b[0margs\u001b[0m\u001b[0;34m,\u001b[0m \u001b[0;34m**\u001b[0m\u001b[0mkwds\u001b[0m\u001b[0;34m)\u001b[0m\u001b[0;34m\u001b[0m\u001b[0m\n\u001b[1;32m   1044\u001b[0m \u001b[0;34m\u001b[0m\u001b[0m\n\u001b[0;32m-> 1045\u001b[0;31m         \u001b[0mresponse\u001b[0m\u001b[0;34m.\u001b[0m\u001b[0mbegin\u001b[0m\u001b[0;34m(\u001b[0m\u001b[0;34m)\u001b[0m\u001b[0;34m\u001b[0m\u001b[0m\n\u001b[0m\u001b[1;32m   1046\u001b[0m         \u001b[0;32massert\u001b[0m \u001b[0mresponse\u001b[0m\u001b[0;34m.\u001b[0m\u001b[0mwill_close\u001b[0m \u001b[0;34m!=\u001b[0m \u001b[0m_UNKNOWN\u001b[0m\u001b[0;34m\u001b[0m\u001b[0m\n\u001b[1;32m   1047\u001b[0m         \u001b[0mself\u001b[0m\u001b[0;34m.\u001b[0m\u001b[0m__state\u001b[0m \u001b[0;34m=\u001b[0m \u001b[0m_CS_IDLE\u001b[0m\u001b[0;34m\u001b[0m\u001b[0m\n",
        "\u001b[0;32m/Users/gk/anaconda/python.app/Contents/lib/python2.7/httplib.pyc\u001b[0m in \u001b[0;36mbegin\u001b[0;34m(self)\u001b[0m\n\u001b[1;32m    407\u001b[0m         \u001b[0;31m# read until we get a non-100 response\u001b[0m\u001b[0;34m\u001b[0m\u001b[0;34m\u001b[0m\u001b[0m\n\u001b[1;32m    408\u001b[0m         \u001b[0;32mwhile\u001b[0m \u001b[0mTrue\u001b[0m\u001b[0;34m:\u001b[0m\u001b[0;34m\u001b[0m\u001b[0m\n\u001b[0;32m--> 409\u001b[0;31m             \u001b[0mversion\u001b[0m\u001b[0;34m,\u001b[0m \u001b[0mstatus\u001b[0m\u001b[0;34m,\u001b[0m \u001b[0mreason\u001b[0m \u001b[0;34m=\u001b[0m \u001b[0mself\u001b[0m\u001b[0;34m.\u001b[0m\u001b[0m_read_status\u001b[0m\u001b[0;34m(\u001b[0m\u001b[0;34m)\u001b[0m\u001b[0;34m\u001b[0m\u001b[0m\n\u001b[0m\u001b[1;32m    410\u001b[0m             \u001b[0;32mif\u001b[0m \u001b[0mstatus\u001b[0m \u001b[0;34m!=\u001b[0m \u001b[0mCONTINUE\u001b[0m\u001b[0;34m:\u001b[0m\u001b[0;34m\u001b[0m\u001b[0m\n\u001b[1;32m    411\u001b[0m                 \u001b[0;32mbreak\u001b[0m\u001b[0;34m\u001b[0m\u001b[0m\n",
        "\u001b[0;32m/Users/gk/anaconda/python.app/Contents/lib/python2.7/httplib.pyc\u001b[0m in \u001b[0;36m_read_status\u001b[0;34m(self)\u001b[0m\n\u001b[1;32m    363\u001b[0m     \u001b[0;32mdef\u001b[0m \u001b[0m_read_status\u001b[0m\u001b[0;34m(\u001b[0m\u001b[0mself\u001b[0m\u001b[0;34m)\u001b[0m\u001b[0;34m:\u001b[0m\u001b[0;34m\u001b[0m\u001b[0m\n\u001b[1;32m    364\u001b[0m         \u001b[0;31m# Initialize with Simple-Response defaults\u001b[0m\u001b[0;34m\u001b[0m\u001b[0;34m\u001b[0m\u001b[0m\n\u001b[0;32m--> 365\u001b[0;31m         \u001b[0mline\u001b[0m \u001b[0;34m=\u001b[0m \u001b[0mself\u001b[0m\u001b[0;34m.\u001b[0m\u001b[0mfp\u001b[0m\u001b[0;34m.\u001b[0m\u001b[0mreadline\u001b[0m\u001b[0;34m(\u001b[0m\u001b[0m_MAXLINE\u001b[0m \u001b[0;34m+\u001b[0m \u001b[0;36m1\u001b[0m\u001b[0;34m)\u001b[0m\u001b[0;34m\u001b[0m\u001b[0m\n\u001b[0m\u001b[1;32m    366\u001b[0m         \u001b[0;32mif\u001b[0m \u001b[0mlen\u001b[0m\u001b[0;34m(\u001b[0m\u001b[0mline\u001b[0m\u001b[0;34m)\u001b[0m \u001b[0;34m>\u001b[0m \u001b[0m_MAXLINE\u001b[0m\u001b[0;34m:\u001b[0m\u001b[0;34m\u001b[0m\u001b[0m\n\u001b[1;32m    367\u001b[0m             \u001b[0;32mraise\u001b[0m \u001b[0mLineTooLong\u001b[0m\u001b[0;34m(\u001b[0m\u001b[0;34m\"header line\"\u001b[0m\u001b[0;34m)\u001b[0m\u001b[0;34m\u001b[0m\u001b[0m\n",
        "\u001b[0;32m/Users/gk/anaconda/python.app/Contents/lib/python2.7/socket.pyc\u001b[0m in \u001b[0;36mreadline\u001b[0;34m(self, size)\u001b[0m\n\u001b[1;32m    474\u001b[0m             \u001b[0;32mwhile\u001b[0m \u001b[0mTrue\u001b[0m\u001b[0;34m:\u001b[0m\u001b[0;34m\u001b[0m\u001b[0m\n\u001b[1;32m    475\u001b[0m                 \u001b[0;32mtry\u001b[0m\u001b[0;34m:\u001b[0m\u001b[0;34m\u001b[0m\u001b[0m\n\u001b[0;32m--> 476\u001b[0;31m                     \u001b[0mdata\u001b[0m \u001b[0;34m=\u001b[0m \u001b[0mself\u001b[0m\u001b[0;34m.\u001b[0m\u001b[0m_sock\u001b[0m\u001b[0;34m.\u001b[0m\u001b[0mrecv\u001b[0m\u001b[0;34m(\u001b[0m\u001b[0mself\u001b[0m\u001b[0;34m.\u001b[0m\u001b[0m_rbufsize\u001b[0m\u001b[0;34m)\u001b[0m\u001b[0;34m\u001b[0m\u001b[0m\n\u001b[0m\u001b[1;32m    477\u001b[0m                 \u001b[0;32mexcept\u001b[0m \u001b[0merror\u001b[0m\u001b[0;34m,\u001b[0m \u001b[0me\u001b[0m\u001b[0;34m:\u001b[0m\u001b[0;34m\u001b[0m\u001b[0m\n\u001b[1;32m    478\u001b[0m                     \u001b[0;32mif\u001b[0m \u001b[0me\u001b[0m\u001b[0;34m.\u001b[0m\u001b[0margs\u001b[0m\u001b[0;34m[\u001b[0m\u001b[0;36m0\u001b[0m\u001b[0;34m]\u001b[0m \u001b[0;34m==\u001b[0m \u001b[0mEINTR\u001b[0m\u001b[0;34m:\u001b[0m\u001b[0;34m\u001b[0m\u001b[0m\n",
        "\u001b[0;31mKeyboardInterrupt\u001b[0m: "
       ]
      }
     ],
     "prompt_number": 7
    },
    {
     "cell_type": "code",
     "collapsed": false,
     "input": [
      "a = {\"x\":\"Gautam\", \"y\":\"burritos\", \"z\": None}\n",
      "print (\"String: \" + str(a))"
     ],
     "language": "python",
     "metadata": {},
     "outputs": [
      {
       "output_type": "stream",
       "stream": "stdout",
       "text": [
        "String: {'y': 'burritos', 'x': 'Gautam', 'z': None}\n"
       ]
      }
     ],
     "prompt_number": 4
    },
    {
     "cell_type": "code",
     "collapsed": false,
     "input": [
      "d = ['a','b','c']\n",
      "for ('a','b') in d:\n",
      "    print 'blah'"
     ],
     "language": "python",
     "metadata": {},
     "outputs": [
      {
       "ename": "SyntaxError",
       "evalue": "can't assign to literal (<ipython-input-27-69583a849f52>, line 2)",
       "output_type": "pyerr",
       "traceback": [
        "\u001b[0;36m  File \u001b[0;32m\"<ipython-input-27-69583a849f52>\"\u001b[0;36m, line \u001b[0;32m2\u001b[0m\n\u001b[0;31m    for ('a','b') in d:\u001b[0m\n\u001b[0;31mSyntaxError\u001b[0m\u001b[0;31m:\u001b[0m can't assign to literal\n"
       ]
      }
     ],
     "prompt_number": 27
    },
    {
     "cell_type": "code",
     "collapsed": false,
     "input": [
      "import os\n",
      "\n",
      "#set path\n",
      "DATA_DIR='/file/path/to/data/dir'\n",
      "\n",
      "# get contents of DATA_DIR, set it to array or subdirs\n",
      "subdirs=os.listdir(DATA_DIR)\n",
      "\n",
      "#loop through subdirs\n",
      "for subdir in subdirs:\n",
      "    #skip files, else\n",
      "    if '.' in subdir:\n",
      "        pass\n",
      "    else :\n",
      "        \n",
      "        "
     ],
     "language": "python",
     "metadata": {},
     "outputs": []
    }
   ],
   "metadata": {}
  }
 ]
}