{
 "metadata": {
  "name": ""
 },
 "nbformat": 3,
 "nbformat_minor": 0,
 "worksheets": [
  {
   "cells": [
    {
     "cell_type": "code",
     "collapsed": false,
     "input": [
      "import json\n",
      "import httplib\n",
      "import pprint as pp\n",
      "\n",
      "api_key = open('/Users/gk/Desktop/github/keys/cb', 'r').read().strip()\n",
      "main_url = 'api.crunchbase.com'\n",
      "site_str = '/v/1/search.js?'\n",
      "\n",
      "def initiate_connection(url):\n",
      "\treturn httplib.HTTPConnection(url)\n",
      "\t\n",
      "def send_query(conn, query, filepath):\n",
      "\tex_fp = open('exceptions.txt', 'w')\n",
      "\tcount, page, outputstr = 0, 0, \"\"\n",
      "\tdone = False\n",
      "\twhile (not done):\n",
      "\t\tpage += 1\n",
      "\t\tif count%500 == 0:\n",
      "\t\t\tprint \"Count: \" + str(count)\n",
      "\t\tconn.request(\"GET\", query+str(page))\n",
      "\t\ttry:\n",
      "\t\t\tresponse = json.loads(conn.getresponse().read())\n",
      "\t\texcept :\n",
      "\t\t\tex_fp.write(json.dumps(response))\n",
      "\t\tif len(response['results']) == 0:\n",
      "\t\t\tdone = True\n",
      "\t\t\tcontinue\n",
      "\t\tfor entity in response['results']:\n",
      "\t\t\tif entity['namespace']=='person':\n",
      "\t\t\t\tname = \"%s, %s\" % (entity['last_name'], entity['first_name'])\n",
      "\t\t\telse :\n",
      "\t\t\t\tname = entity['name']\n",
      "\t\t\ttry:\n",
      "\t\t\t\tcount += 1\n",
      "\t\t\t\toutputstr = \"\\n%s\\t%s\\t%s\" % (name, entity['permalink'],entity['namespace'])\n",
      "\t\t\t\tfilepath.write(outputstr.encode('utf-8'))\n",
      "\t\t\texcept :\n",
      "\t\t\t\tex_fp.write(pp.pprint(response))\n",
      "\n",
      "\t\t\t\n",
      "\n",
      "def main():\n",
      "\toutput = 'simple_output.txt'\n",
      "\tfp = open(output, 'w')\n",
      "\tfp.write('Name\\tpermalink\\tnamespace')\n",
      "\tconnection=initiate_connection(main_url)\n",
      "\tsearch_topic = \"healthcare\"\n",
      "\tquery = \"%squery=%s&api_key=%s&page=\" % (site_str, search_topic, api_key)\n",
      "\tsend_query (connection, query, fp)\n",
      "\tfp.close()\n",
      "\n",
      "if __name__ == '__main__':\n",
      "\tmain()\n",
      "\t\n"
     ],
     "language": "python",
     "metadata": {},
     "outputs": [
      {
       "output_type": "stream",
       "stream": "stdout",
       "text": [
        "Count: 0\n",
        "Count: 500"
       ]
      },
      {
       "output_type": "stream",
       "stream": "stdout",
       "text": [
        "\n",
        "Count: 1000"
       ]
      },
      {
       "output_type": "stream",
       "stream": "stdout",
       "text": [
        "\n",
        "Count: 1500"
       ]
      },
      {
       "output_type": "stream",
       "stream": "stdout",
       "text": [
        "\n",
        "Count: 2000"
       ]
      },
      {
       "output_type": "stream",
       "stream": "stdout",
       "text": [
        "\n",
        "Count: 2500"
       ]
      },
      {
       "output_type": "stream",
       "stream": "stdout",
       "text": [
        "\n",
        "Count: 3000"
       ]
      },
      {
       "output_type": "stream",
       "stream": "stdout",
       "text": [
        "\n",
        "Count: 3500"
       ]
      },
      {
       "output_type": "stream",
       "stream": "stdout",
       "text": [
        "\n",
        "Count: 4000"
       ]
      },
      {
       "output_type": "stream",
       "stream": "stdout",
       "text": [
        "\n",
        "Count: 4500"
       ]
      },
      {
       "output_type": "stream",
       "stream": "stdout",
       "text": [
        "\n",
        "Count: 5000"
       ]
      },
      {
       "output_type": "stream",
       "stream": "stdout",
       "text": [
        "\n",
        "Count: 5500"
       ]
      },
      {
       "output_type": "stream",
       "stream": "stdout",
       "text": [
        "\n",
        "Count: 6000"
       ]
      },
      {
       "output_type": "stream",
       "stream": "stdout",
       "text": [
        "\n",
        "Count: 6500"
       ]
      },
      {
       "output_type": "stream",
       "stream": "stdout",
       "text": [
        "\n",
        "Count: 7000"
       ]
      },
      {
       "output_type": "stream",
       "stream": "stdout",
       "text": [
        "\n",
        "Count: 7500"
       ]
      },
      {
       "output_type": "stream",
       "stream": "stdout",
       "text": [
        "\n",
        "Count: 8000"
       ]
      },
      {
       "output_type": "stream",
       "stream": "stdout",
       "text": [
        "\n"
       ]
      }
     ],
     "prompt_number": 18
    },
    {
     "cell_type": "code",
     "collapsed": false,
     "input": [
      "import json\n",
      "import httplib\n",
      "import pprint as pp\n",
      "import sqlite3\n",
      "\n",
      "api_key = open('/Users/gk/Desktop/github/keys/cb', 'r').read().strip()\n",
      "main_url = 'api.crunchbase.com'\n",
      "site_str = '/v/1/search.js?'\n",
      "\n",
      "def initiate_connection(url):\n",
      "\treturn httplib.HTTPConnection(url)\n",
      "\t\n",
      "def send_query(conn, query, sql_connection):\n",
      "\tex_fp = open('exceptions.txt', 'w')\n",
      "\tcount, page, outputstr = 0, 0, \"\"\n",
      "\tdone = False\n",
      "\twhile (not done):\n",
      "\t\tpage += 1\n",
      "\t\tsql_connection.commit()\n",
      "\t\tconn.request(\"GET\", query+str(page))\n",
      "\t\ttry:\n",
      "\t\t\tresponse = json.loads(conn.getresponse().read())\n",
      "\t\texcept :\n",
      "\t\t\tex_fp.write(json.dumps(response))\n",
      "\t\tif len(response['results']) == 0:\n",
      "\t\t\tdone = True\n",
      "\t\t\tcontinue\n",
      "\t\tfor entity in response['results']:\n",
      "\t\t\tif entity['namespace']=='person':\n",
      "\t\t\t\tname = \"%s, %s\" % (entity['last_name'], entity['first_name'])\n",
      "\t\t\telse :\n",
      "\t\t\t\tname = entity['name']\n",
      "\t\t\ttry:\n",
      "\t\t\t\tcount += 1\n",
      "\t\t\t\tsql_connection.execute('''INSERT INTO recs VALUES (?, ?, ?)''', (name, entity['permalink'],entity['namespace']))\n",
      "\t\t\t\t\n",
      "\t\t\texcept :\n",
      "\t\t\t\tex_fp.write(pp.pprint(response))\n",
      "\n",
      "def main():\n",
      "\toutput = 'simple_output.txt'\n",
      "\tcb_connection=initiate_connection(main_url)\n",
      "\tsearch_topic = \"healthcare\"\n",
      "\tsql_connection = sqlite3.connect(search_topic+\".db\")\n",
      "\tsql_connection.cursor()\n",
      "\tsql_connection.execute('''DROP TABLE IF EXISTS recs''')\n",
      "\tsql_connection.execute('''CREATE TABLE recs (name text, permalink text, namespace text)''')\n",
      "\tsql_connection.commit()\n",
      "\tquery = \"%squery=%s&api_key=%s&page=\" % (site_str, search_topic, api_key)\n",
      "\tsend_query (cb_connection, query, sql_connection)\n",
      "\tsql_connection.close()\n",
      "\n",
      "if __name__ == '__main__':\n",
      "\tmain()\n",
      "\t\n",
      "\t"
     ],
     "language": "python",
     "metadata": {},
     "outputs": [],
     "prompt_number": 22
    },
    {
     "cell_type": "code",
     "collapsed": false,
     "input": [
      "#connect to Entity Information endpoint\n",
      "#getting data about the 'company' 'locu' \n",
      "import json\n",
      "import httplib\n",
      "import pprint as pp\n",
      "import sqlite3\n",
      "\n",
      "api_key = open('/Users/gk/Desktop/github/keys/cb', 'r').read().strip()\n",
      "main_url = 'api.crunchbase.com'\n",
      "company_entityinfo_str ='/v/1/company/'\n",
      "locu_file = file('/Users/gk/Desktop/data_sci/crunchbase/locu.json', 'w')\n",
      "\n",
      "\n",
      "def initiate_connection(url):\n",
      "\treturn httplib.HTTPConnection(url)\n",
      "\n",
      "def get_info_for_companies(connection):\n",
      "    query=company_entityinfo_str+'locu.js?api_key='+api_key\n",
      "    connection.request(\"GET\",query)\n",
      "    locu = connection.getresponse().read()\n",
      "    locu_file.write(pp.pformat(json.loads(locu)).encode('utf-8'))\n",
      "    locu_file.close()\n",
      "\n",
      "def companies():\n",
      "    cb_connection=initiate_connection(main_url)\n",
      "    get_info_for_companies(cb_connection)\n",
      "\n",
      "if __name__ == '__main__':\n",
      "\tcompanies()"
     ],
     "language": "python",
     "metadata": {},
     "outputs": [],
     "prompt_number": 23
    },
    {
     "cell_type": "code",
     "collapsed": false,
     "input": [
      "#connect to entity information endpoint\n",
      "#get data about apple.\n",
      "import json\n",
      "import httplib\n",
      "import pprint as pp\n",
      "import sqlite3\n",
      "\n",
      "api_key = open('/Users/gk/Desktop/github/keys/cb', 'r').read().strip()\n",
      "main_url = 'api.crunchbase.com'\n",
      "company_entityinfo_str ='/v/1/company/'\n",
      "apple_file = file('/Users/gk/Desktop/data_sci/crunchbase/apple.json', 'w')\n",
      "\n",
      "def initiate_connection(url):\n",
      "\treturn httplib.HTTPConnection(url)\n",
      "\n",
      "def get_info_for_companies(connection):\n",
      "    query=company_entityinfo_str+'apple.js?api_key='+api_key\n",
      "    connection.request(\"GET\",query)\n",
      "    apple = connection.getresponse().read()\n",
      "    apple_file.write(pp.pformat(json.loads(apple)).encode('utf-8'))\n",
      "    apple_file.close()\n",
      "\n",
      "def companies():\n",
      "    cb_connection=initiate_connection(main_url)\n",
      "    get_info_for_companies(cb_connection)\n",
      "\n",
      "if __name__ == '__main__':\n",
      "\tcompanies()"
     ],
     "language": "python",
     "metadata": {},
     "outputs": [],
     "prompt_number": 24
    },
    {
     "cell_type": "code",
     "collapsed": false,
     "input": [
      "#connect to Entity Information endpoint\n",
      "#get info about zephyr-health\n",
      "import json\n",
      "import httplib\n",
      "import pprint as pp\n",
      "import sqlite3\n",
      "\n",
      "api_key = open('/Users/gk/Desktop/github/keys/cb', 'r').read().strip()\n",
      "main_url = 'api.crunchbase.com'\n",
      "companies_entitylist_str = '/v/1/companies.js?'\n",
      "company_entityinfo_str ='/v/1/company/'\n",
      "output_file = file('/Users/gk/Desktop/data_sci/crunchbase/zephry-health.json', 'w')\n",
      "\n",
      "def initiate_connection(url):\n",
      "\treturn httplib.HTTPConnection(url)\n",
      "\n",
      "def get_info_for_companies(connection):\n",
      "    query=company_entityinfo_str+'zephyr-health.js?api_key='+api_key\n",
      "    connection.request(\"GET\",query)\n",
      "    zephyr = connection.getresponse().read()\n",
      "    output_file.write(pp.pformat(json.loads(zephyr)).encode('utf-8'))\n",
      "    output_file.close()\n",
      "\n",
      "def companies():\n",
      "    cb_connection=initiate_connection(main_url)\n",
      "    get_info_for_companies(cb_connection)\n",
      "\n",
      "if __name__ == '__main__':\n",
      "\tcompanies()"
     ],
     "language": "python",
     "metadata": {},
     "outputs": [],
     "prompt_number": 25
    },
    {
     "cell_type": "code",
     "collapsed": false,
     "input": [
      "#connect to companies endpoint\n",
      "#getting information about every single company and filing it into companies.db\n",
      "import json\n",
      "import httplib\n",
      "import pprint as pp\n",
      "import sqlite3\n",
      "import codecs\n",
      "\n",
      "API_KEY = open('/Users/gk/Desktop/github/keys/cb', 'r').read().strip()\n",
      "OUTPUTDIR='/Users/gk/Desktop/data_sci/crunchbase/data'\n",
      "URL = 'api.crunchbase.com'\n",
      "COMPANIES_EL = '/v/1/companies.js?'\n",
      "COMPANY_EI = '/v/1/company/'\n",
      "EXCEPTION_FILE= ''.join((OUTPUTDIR,'/exceptions.txt'))\n",
      "\n",
      "\n",
      "def initiate_connection(url):\n",
      "\treturn httplib.HTTPConnection(url)\n",
      "\n",
      "def generate_description_string(company_detail):\n",
      "    return '\\n'.join(filter(None, [company_detail[key] for key in ['overview', 'description', 'tag_list']]))\n",
      "\n",
      "def get_company_overview(cb_conn,permalink):\n",
      "    global COMPANY_EI, API_KEY, EXCEPTION_FILE\n",
      "    cb_conn.request(\"GET\",''.join((COMPANY_EI,permalink,'.js?api_key=',API_KEY)))\n",
      "    return generate_description_string(json.loads(cb_conn.getresponse().read()))\n",
      "\n",
      "def db_vals(conn, company):\n",
      "    code = lambda x: x if x != '' else None\n",
      "    name = company['name']\n",
      "    permalink = company['permalink']\n",
      "    cat = code(company['category_code'])\n",
      "    descr = get_company_overview(conn, permalink)\n",
      "    return permalink, name, cat, descr\n",
      "    \n",
      "\n",
      "def send_companies_query(conn, query, sql_connection):\n",
      "    global EXCEPTION_FILE\n",
      "    count = 0\n",
      "    conn.request(\"GET\", query)\n",
      "    val = conn.getresponse().read().replace('][',',')\n",
      "    response = json.loads(val)\n",
      "    for company in response:\n",
      "        try :\n",
      "            sql_connection.execute('''INSERT INTO companies VALUES (?, ?, ?, ?)''', db_vals(conn,company))\n",
      "            count += 1\n",
      "            if count % 100 == 0 :\n",
      "                sql_connection.commit()\n",
      "                print \"Count: %d\" % count\n",
      "        except :\n",
      "            with codecs.open(EXCEPTION_FILE, 'a') as f:\n",
      "                f.write('\\n')\n",
      "                f.write ('=======ERROR=======\\n')\n",
      "                f.write(str(company))\n",
      "    sql_connection.commit()\n",
      "\n",
      "def setup_companies_table():\n",
      "    global OUTPUTDIR\n",
      "    sql_connection = sqlite3.connect(''.join((OUTPUTDIR,\"/companies.db\")))\n",
      "    sql_connection.cursor()\n",
      "    sql_connection.execute('''DROP TABLE IF EXISTS companies''')\n",
      "    sql_connection.execute('''CREATE TABLE companies (permalink text primary key, name text, cat text, descr text)''')\n",
      "    sql_connection.commit()\n",
      "    return sql_connection\n",
      "    \n",
      "def companies():\n",
      "    global URL, COMPANIES_EL, API_KEY\n",
      "    cb_connection=initiate_connection(URL)\n",
      "    sql_connection = setup_companies_table()\n",
      "    query = \"%sapi_key=%s\" % (COMPANIES_EL, API_KEY)\n",
      "    send_companies_query (cb_connection, query, sql_connection)\n",
      "    cb_connection.close()\n",
      "    sql_connection.close()\n",
      "\n",
      "if __name__ == '__main__':\n",
      "\tcompanies()"
     ],
     "language": "python",
     "metadata": {},
     "outputs": [
      {
       "output_type": "stream",
       "stream": "stdout",
       "text": [
        "Count: 100\n",
        "Count: 200"
       ]
      },
      {
       "output_type": "stream",
       "stream": "stdout",
       "text": [
        "\n",
        "Count: 300"
       ]
      },
      {
       "output_type": "stream",
       "stream": "stdout",
       "text": [
        "\n",
        "Count: 400"
       ]
      },
      {
       "output_type": "stream",
       "stream": "stdout",
       "text": [
        "\n",
        "Count: 500"
       ]
      },
      {
       "output_type": "stream",
       "stream": "stdout",
       "text": [
        "\n",
        "Count: 600"
       ]
      },
      {
       "output_type": "stream",
       "stream": "stdout",
       "text": [
        "\n",
        "Count: 700"
       ]
      },
      {
       "output_type": "stream",
       "stream": "stdout",
       "text": [
        "\n",
        "Count: 800"
       ]
      },
      {
       "ename": "TypeError",
       "evalue": "expected a character buffer object",
       "output_type": "pyerr",
       "traceback": [
        "\u001b[0;31m---------------------------------------------------------------------------\u001b[0m\n\u001b[0;31mTypeError\u001b[0m                                 Traceback (most recent call last)",
        "\u001b[0;32m<ipython-input-10-2300c1a0a7e0>\u001b[0m in \u001b[0;36m<module>\u001b[0;34m()\u001b[0m\n\u001b[1;32m     74\u001b[0m \u001b[0;34m\u001b[0m\u001b[0m\n\u001b[1;32m     75\u001b[0m \u001b[0;32mif\u001b[0m \u001b[0m__name__\u001b[0m \u001b[0;34m==\u001b[0m \u001b[0;34m'__main__'\u001b[0m\u001b[0;34m:\u001b[0m\u001b[0;34m\u001b[0m\u001b[0m\n\u001b[0;32m---> 76\u001b[0;31m         \u001b[0mcompanies\u001b[0m\u001b[0;34m(\u001b[0m\u001b[0;34m)\u001b[0m\u001b[0;34m\u001b[0m\u001b[0m\n\u001b[0m",
        "\u001b[0;32m<ipython-input-10-2300c1a0a7e0>\u001b[0m in \u001b[0;36mcompanies\u001b[0;34m()\u001b[0m\n\u001b[1;32m     69\u001b[0m     \u001b[0msql_connection\u001b[0m \u001b[0;34m=\u001b[0m \u001b[0msetup_companies_table\u001b[0m\u001b[0;34m(\u001b[0m\u001b[0;34m)\u001b[0m\u001b[0;34m\u001b[0m\u001b[0m\n\u001b[1;32m     70\u001b[0m     \u001b[0mquery\u001b[0m \u001b[0;34m=\u001b[0m \u001b[0;34m\"%sapi_key=%s\"\u001b[0m \u001b[0;34m%\u001b[0m \u001b[0;34m(\u001b[0m\u001b[0mCOMPANIES_EL\u001b[0m\u001b[0;34m,\u001b[0m \u001b[0mAPI_KEY\u001b[0m\u001b[0;34m)\u001b[0m\u001b[0;34m\u001b[0m\u001b[0m\n\u001b[0;32m---> 71\u001b[0;31m     \u001b[0msend_companies_query\u001b[0m \u001b[0;34m(\u001b[0m\u001b[0mcb_connection\u001b[0m\u001b[0;34m,\u001b[0m \u001b[0mquery\u001b[0m\u001b[0;34m,\u001b[0m \u001b[0msql_connection\u001b[0m\u001b[0;34m)\u001b[0m\u001b[0;34m\u001b[0m\u001b[0m\n\u001b[0m\u001b[1;32m     72\u001b[0m     \u001b[0mcb_connection\u001b[0m\u001b[0;34m.\u001b[0m\u001b[0mclose\u001b[0m\u001b[0;34m(\u001b[0m\u001b[0;34m)\u001b[0m\u001b[0;34m\u001b[0m\u001b[0m\n\u001b[1;32m     73\u001b[0m     \u001b[0msql_connection\u001b[0m\u001b[0;34m.\u001b[0m\u001b[0mclose\u001b[0m\u001b[0;34m(\u001b[0m\u001b[0;34m)\u001b[0m\u001b[0;34m\u001b[0m\u001b[0m\n",
        "\u001b[0;32m<ipython-input-10-2300c1a0a7e0>\u001b[0m in \u001b[0;36msend_companies_query\u001b[0;34m(conn, query, sql_connection)\u001b[0m\n\u001b[1;32m     52\u001b[0m                 \u001b[0mf\u001b[0m\u001b[0;34m.\u001b[0m\u001b[0mwrite\u001b[0m\u001b[0;34m(\u001b[0m\u001b[0;34m'\\n'\u001b[0m\u001b[0;34m)\u001b[0m\u001b[0;34m\u001b[0m\u001b[0m\n\u001b[1;32m     53\u001b[0m                 \u001b[0mf\u001b[0m\u001b[0;34m.\u001b[0m\u001b[0mwrite\u001b[0m \u001b[0;34m(\u001b[0m\u001b[0;34m'=======ERROR=======\\n'\u001b[0m\u001b[0;34m)\u001b[0m\u001b[0;34m\u001b[0m\u001b[0m\n\u001b[0;32m---> 54\u001b[0;31m                 \u001b[0mf\u001b[0m\u001b[0;34m.\u001b[0m\u001b[0mwrite\u001b[0m\u001b[0;34m(\u001b[0m\u001b[0mcompany\u001b[0m\u001b[0;34m)\u001b[0m\u001b[0;34m\u001b[0m\u001b[0m\n\u001b[0m\u001b[1;32m     55\u001b[0m     \u001b[0msql_connection\u001b[0m\u001b[0;34m.\u001b[0m\u001b[0mcommit\u001b[0m\u001b[0;34m(\u001b[0m\u001b[0;34m)\u001b[0m\u001b[0;34m\u001b[0m\u001b[0m\n\u001b[1;32m     56\u001b[0m \u001b[0;34m\u001b[0m\u001b[0m\n",
        "\u001b[0;31mTypeError\u001b[0m: expected a character buffer object"
       ]
      },
      {
       "output_type": "stream",
       "stream": "stdout",
       "text": [
        "\n"
       ]
      }
     ],
     "prompt_number": 10
    },
    {
     "cell_type": "code",
     "collapsed": false,
     "input": [
      "#connect to companies endpoint\n",
      "#getting information about every single company and filing it into companies.db\n",
      "import json\n",
      "import httplib\n",
      "import sqlite3\n",
      "import codecs\n",
      "import sys\n",
      "\n",
      "PATH = '/Users/gk/Desktop/data_sci/crunchbase'\n",
      "API_KEY = open(''.join((PATH,'/keys/cb')), 'r').read().strip()\n",
      "OUTPUTDIR=''.join((PATH,'/data'))\n",
      "URL = 'api.crunchbase.com'\n",
      "COMPANIES_EL = '/v/1/companies.js?'\n",
      "COMPANY_EI = '/v/1/company/'\n",
      "EXCEPTION_FILE= ''.join((OUTPUTDIR,'/exceptions.txt'))\n",
      "\n",
      "\n",
      "def initiate_connection(url):\n",
      "\treturn httplib.HTTPConnection(url)\n",
      "\n",
      "def fetch_company_file(cb_conn, company):\n",
      "    global COMPANY_EI, API_KEY, EXCEPTION_FILE, OUTPUTDIR\n",
      "    query=''.join((COMPANY_EI,company['permalink'],'.js?api_key=',API_KEY))\n",
      "    company_file=''.join((OUTPUTDIR,'/',company['permalink'],'.json'))\n",
      "    cb_conn.request(\"GET\",query)\n",
      "    data=cb_conn.getresponse().read()\n",
      "    try:\n",
      "        try:\n",
      "            f = open(company_file, 'r+')\n",
      "            if len(f.read()) < 1:\n",
      "                f.write(data)\n",
      "        except :\n",
      "            f = open(company_file, 'w')\n",
      "            f.write(data)\n",
      "        f.close()\n",
      "    except:\n",
      "        extype, value = sys.exc_info()[:2]\n",
      "        with open(EXCEPTION_FILE, 'a') as g:\n",
      "            g.write('\\n=======ERROR: FETCH_COMPANY_FILE=======')\n",
      "            g.write('\\nTYPE: %s \\t VALUE: %s' % (extype, value))\n",
      "            g.write('\\n'+str(company))                 \n",
      "\n",
      "    \n",
      "def fetch_companies(cb_conn, companies_file):\n",
      "    global EXCEPTION_FILE\n",
      "    with open(''.join((PATH,'/data/count.txt'))) as count_file:\n",
      "        count = int(count_file.read().strip())\n",
      "    with open(companies_file) as f:\n",
      "        companies = json.loads(f.read(), strict=False)\n",
      "        for company in companies[count:]:\n",
      "            if count > 200:\n",
      "                break\n",
      "            try :\n",
      "                fetch_company_file(cb_conn, company)\n",
      "            except :\n",
      "                extype, value = sys.exc_info()[:2]\n",
      "                with open(EXCEPTION_FILE, 'a') as g:\n",
      "                    g.write('\\n=======ERROR: FETCH_COMPANIES=======')\n",
      "                    g.write('\\nTYPE: %s \\t VALUE: %s' % (extype, value))\n",
      "                    g.write('\\n'+str(company))\n",
      "            print count\n",
      "            count += 1\n",
      "        with open(''.join((PATH,'/data/count.txt')),'w') as count_file:\n",
      "            count_file.write(str(count))\n",
      "\n",
      "def fetch_companies_file(cb_conn):\n",
      "    global COMPANIES_EL, API_KEY, OUTPUTDIR, EXCEPTION_FILE\n",
      "    json_file=''.join((OUTPUTDIR,'/companies.json'))\n",
      "    with open(json_file, 'r+') as f:\n",
      "        if len(f.read()) < 1:\n",
      "            query = ''.join((COMPANIES_EL,\"api_key=\",API_KEY))\n",
      "            cb_conn.request(\"GET\", query)\n",
      "            try:\n",
      "                f.write(cb_conn.getresponse().read().replace('][',','))\n",
      "            except:\n",
      "                extype, value = sys.exc_info()[:2]\n",
      "                with open(EXCEPTION_FILE, 'a') as g:\n",
      "                    g.write('\\n=======ERROR=======')\n",
      "                    g.write('\\nTYPE: %s \\t VALUE: %s' % (extype, value))        \n",
      "    return json_file\n",
      "\n",
      "def companies():\n",
      "    global URL\n",
      "    cb_connection=initiate_connection(URL)\n",
      "    companies_file = fetch_companies_file(cb_connection)\n",
      "    fetch_companies(cb_connection, companies_file)\n",
      "    cb_connection.close()\n",
      "\n",
      "if __name__ == '__main__':\n",
      "\tcompanies()\n",
      "\n",
      "'''\n",
      "save the contents of the initial call to a file\n",
      "limit the # of calls per hour\n",
      "start the exceptions file from scratch.\n",
      "'''"
     ],
     "language": "python",
     "metadata": {},
     "outputs": [
      {
       "output_type": "stream",
       "stream": "stdout",
       "text": [
        "100\n",
        "101"
       ]
      },
      {
       "output_type": "stream",
       "stream": "stdout",
       "text": [
        "\n",
        "102"
       ]
      },
      {
       "output_type": "stream",
       "stream": "stdout",
       "text": [
        "\n",
        "103"
       ]
      },
      {
       "output_type": "stream",
       "stream": "stdout",
       "text": [
        "\n",
        "104"
       ]
      },
      {
       "output_type": "stream",
       "stream": "stdout",
       "text": [
        "\n",
        "105"
       ]
      },
      {
       "output_type": "stream",
       "stream": "stdout",
       "text": [
        "\n",
        "106"
       ]
      },
      {
       "output_type": "stream",
       "stream": "stdout",
       "text": [
        "\n",
        "107"
       ]
      },
      {
       "output_type": "stream",
       "stream": "stdout",
       "text": [
        "\n",
        "108"
       ]
      },
      {
       "output_type": "stream",
       "stream": "stdout",
       "text": [
        "\n",
        "109"
       ]
      },
      {
       "output_type": "stream",
       "stream": "stdout",
       "text": [
        "\n",
        "110"
       ]
      },
      {
       "output_type": "stream",
       "stream": "stdout",
       "text": [
        "\n",
        "111"
       ]
      },
      {
       "output_type": "stream",
       "stream": "stdout",
       "text": [
        "\n",
        "112"
       ]
      },
      {
       "output_type": "stream",
       "stream": "stdout",
       "text": [
        "\n",
        "113"
       ]
      },
      {
       "output_type": "stream",
       "stream": "stdout",
       "text": [
        "\n",
        "114"
       ]
      },
      {
       "output_type": "stream",
       "stream": "stdout",
       "text": [
        "\n",
        "115"
       ]
      },
      {
       "output_type": "stream",
       "stream": "stdout",
       "text": [
        "\n",
        "116"
       ]
      },
      {
       "output_type": "stream",
       "stream": "stdout",
       "text": [
        "\n",
        "117"
       ]
      },
      {
       "output_type": "stream",
       "stream": "stdout",
       "text": [
        "\n",
        "118"
       ]
      },
      {
       "output_type": "stream",
       "stream": "stdout",
       "text": [
        "\n",
        "119"
       ]
      },
      {
       "output_type": "stream",
       "stream": "stdout",
       "text": [
        "\n",
        "120"
       ]
      },
      {
       "output_type": "stream",
       "stream": "stdout",
       "text": [
        "\n",
        "121"
       ]
      },
      {
       "output_type": "stream",
       "stream": "stdout",
       "text": [
        "\n",
        "122"
       ]
      },
      {
       "output_type": "stream",
       "stream": "stdout",
       "text": [
        "\n",
        "123"
       ]
      },
      {
       "output_type": "stream",
       "stream": "stdout",
       "text": [
        "\n",
        "124"
       ]
      },
      {
       "output_type": "stream",
       "stream": "stdout",
       "text": [
        "\n",
        "125"
       ]
      },
      {
       "output_type": "stream",
       "stream": "stdout",
       "text": [
        "\n",
        "126"
       ]
      },
      {
       "output_type": "stream",
       "stream": "stdout",
       "text": [
        "\n",
        "127"
       ]
      },
      {
       "output_type": "stream",
       "stream": "stdout",
       "text": [
        "\n",
        "128"
       ]
      },
      {
       "output_type": "stream",
       "stream": "stdout",
       "text": [
        "\n",
        "129"
       ]
      },
      {
       "output_type": "stream",
       "stream": "stdout",
       "text": [
        "\n",
        "130"
       ]
      },
      {
       "output_type": "stream",
       "stream": "stdout",
       "text": [
        "\n",
        "131"
       ]
      },
      {
       "output_type": "stream",
       "stream": "stdout",
       "text": [
        "\n",
        "132"
       ]
      },
      {
       "output_type": "stream",
       "stream": "stdout",
       "text": [
        "\n",
        "133"
       ]
      },
      {
       "output_type": "stream",
       "stream": "stdout",
       "text": [
        "\n",
        "134"
       ]
      },
      {
       "output_type": "stream",
       "stream": "stdout",
       "text": [
        "\n",
        "135"
       ]
      },
      {
       "output_type": "stream",
       "stream": "stdout",
       "text": [
        "\n",
        "136"
       ]
      },
      {
       "output_type": "stream",
       "stream": "stdout",
       "text": [
        "\n",
        "137"
       ]
      },
      {
       "output_type": "stream",
       "stream": "stdout",
       "text": [
        "\n",
        "138"
       ]
      },
      {
       "output_type": "stream",
       "stream": "stdout",
       "text": [
        "\n",
        "139"
       ]
      },
      {
       "output_type": "stream",
       "stream": "stdout",
       "text": [
        "\n",
        "140"
       ]
      },
      {
       "output_type": "stream",
       "stream": "stdout",
       "text": [
        "\n",
        "141"
       ]
      },
      {
       "output_type": "stream",
       "stream": "stdout",
       "text": [
        "\n",
        "142"
       ]
      },
      {
       "output_type": "stream",
       "stream": "stdout",
       "text": [
        "\n",
        "143"
       ]
      },
      {
       "output_type": "stream",
       "stream": "stdout",
       "text": [
        "\n",
        "144"
       ]
      },
      {
       "output_type": "stream",
       "stream": "stdout",
       "text": [
        "\n",
        "145"
       ]
      },
      {
       "output_type": "stream",
       "stream": "stdout",
       "text": [
        "\n",
        "146"
       ]
      },
      {
       "output_type": "stream",
       "stream": "stdout",
       "text": [
        "\n",
        "147"
       ]
      },
      {
       "output_type": "stream",
       "stream": "stdout",
       "text": [
        "\n",
        "148"
       ]
      },
      {
       "output_type": "stream",
       "stream": "stdout",
       "text": [
        "\n",
        "149"
       ]
      },
      {
       "output_type": "stream",
       "stream": "stdout",
       "text": [
        "\n",
        "150"
       ]
      },
      {
       "output_type": "stream",
       "stream": "stdout",
       "text": [
        "\n",
        "151"
       ]
      },
      {
       "output_type": "stream",
       "stream": "stdout",
       "text": [
        "\n",
        "152"
       ]
      },
      {
       "output_type": "stream",
       "stream": "stdout",
       "text": [
        "\n",
        "153"
       ]
      },
      {
       "output_type": "stream",
       "stream": "stdout",
       "text": [
        "\n",
        "154"
       ]
      },
      {
       "output_type": "stream",
       "stream": "stdout",
       "text": [
        "\n",
        "155"
       ]
      },
      {
       "output_type": "stream",
       "stream": "stdout",
       "text": [
        "\n",
        "156"
       ]
      },
      {
       "output_type": "stream",
       "stream": "stdout",
       "text": [
        "\n",
        "157"
       ]
      },
      {
       "output_type": "stream",
       "stream": "stdout",
       "text": [
        "\n",
        "158"
       ]
      },
      {
       "output_type": "stream",
       "stream": "stdout",
       "text": [
        "\n",
        "159"
       ]
      },
      {
       "output_type": "stream",
       "stream": "stdout",
       "text": [
        "\n",
        "160"
       ]
      },
      {
       "output_type": "stream",
       "stream": "stdout",
       "text": [
        "\n",
        "161"
       ]
      },
      {
       "output_type": "stream",
       "stream": "stdout",
       "text": [
        "\n",
        "162"
       ]
      },
      {
       "output_type": "stream",
       "stream": "stdout",
       "text": [
        "\n",
        "163"
       ]
      },
      {
       "output_type": "stream",
       "stream": "stdout",
       "text": [
        "\n",
        "164"
       ]
      },
      {
       "output_type": "stream",
       "stream": "stdout",
       "text": [
        "\n",
        "165"
       ]
      },
      {
       "output_type": "stream",
       "stream": "stdout",
       "text": [
        "\n",
        "166"
       ]
      },
      {
       "output_type": "stream",
       "stream": "stdout",
       "text": [
        "\n",
        "167"
       ]
      },
      {
       "output_type": "stream",
       "stream": "stdout",
       "text": [
        "\n",
        "168"
       ]
      },
      {
       "output_type": "stream",
       "stream": "stdout",
       "text": [
        "\n",
        "169"
       ]
      },
      {
       "output_type": "stream",
       "stream": "stdout",
       "text": [
        "\n",
        "170"
       ]
      },
      {
       "output_type": "stream",
       "stream": "stdout",
       "text": [
        "\n",
        "171"
       ]
      },
      {
       "output_type": "stream",
       "stream": "stdout",
       "text": [
        "\n",
        "172"
       ]
      },
      {
       "output_type": "stream",
       "stream": "stdout",
       "text": [
        "\n",
        "173"
       ]
      },
      {
       "output_type": "stream",
       "stream": "stdout",
       "text": [
        "\n",
        "174"
       ]
      },
      {
       "output_type": "stream",
       "stream": "stdout",
       "text": [
        "\n",
        "175"
       ]
      },
      {
       "output_type": "stream",
       "stream": "stdout",
       "text": [
        "\n",
        "176"
       ]
      },
      {
       "output_type": "stream",
       "stream": "stdout",
       "text": [
        "\n",
        "177"
       ]
      },
      {
       "output_type": "stream",
       "stream": "stdout",
       "text": [
        "\n",
        "178"
       ]
      },
      {
       "output_type": "stream",
       "stream": "stdout",
       "text": [
        "\n",
        "179"
       ]
      },
      {
       "output_type": "stream",
       "stream": "stdout",
       "text": [
        "\n",
        "180"
       ]
      },
      {
       "output_type": "stream",
       "stream": "stdout",
       "text": [
        "\n",
        "181"
       ]
      },
      {
       "output_type": "stream",
       "stream": "stdout",
       "text": [
        "\n",
        "182"
       ]
      },
      {
       "output_type": "stream",
       "stream": "stdout",
       "text": [
        "\n",
        "183"
       ]
      },
      {
       "output_type": "stream",
       "stream": "stdout",
       "text": [
        "\n",
        "184"
       ]
      },
      {
       "output_type": "stream",
       "stream": "stdout",
       "text": [
        "\n",
        "185"
       ]
      },
      {
       "output_type": "stream",
       "stream": "stdout",
       "text": [
        "\n",
        "186"
       ]
      },
      {
       "output_type": "stream",
       "stream": "stdout",
       "text": [
        "\n",
        "187"
       ]
      },
      {
       "output_type": "stream",
       "stream": "stdout",
       "text": [
        "\n",
        "188"
       ]
      },
      {
       "output_type": "stream",
       "stream": "stdout",
       "text": [
        "\n",
        "189"
       ]
      },
      {
       "output_type": "stream",
       "stream": "stdout",
       "text": [
        "\n",
        "190"
       ]
      },
      {
       "output_type": "stream",
       "stream": "stdout",
       "text": [
        "\n",
        "191"
       ]
      },
      {
       "output_type": "stream",
       "stream": "stdout",
       "text": [
        "\n",
        "192"
       ]
      },
      {
       "output_type": "stream",
       "stream": "stdout",
       "text": [
        "\n",
        "193"
       ]
      },
      {
       "output_type": "stream",
       "stream": "stdout",
       "text": [
        "\n",
        "194"
       ]
      },
      {
       "output_type": "stream",
       "stream": "stdout",
       "text": [
        "\n",
        "195"
       ]
      },
      {
       "output_type": "stream",
       "stream": "stdout",
       "text": [
        "\n",
        "196"
       ]
      },
      {
       "output_type": "stream",
       "stream": "stdout",
       "text": [
        "\n",
        "197"
       ]
      },
      {
       "output_type": "stream",
       "stream": "stdout",
       "text": [
        "\n",
        "198"
       ]
      },
      {
       "output_type": "stream",
       "stream": "stdout",
       "text": [
        "\n",
        "199"
       ]
      },
      {
       "output_type": "stream",
       "stream": "stdout",
       "text": [
        "\n",
        "200"
       ]
      },
      {
       "output_type": "stream",
       "stream": "stdout",
       "text": [
        "\n"
       ]
      },
      {
       "metadata": {},
       "output_type": "pyout",
       "prompt_number": 36,
       "text": [
        "'\\nsave the contents of the initial call to a file\\nlimit the # of calls per hour\\nstart the exceptions file from scratch.\\n'"
       ]
      }
     ],
     "prompt_number": 36
    },
    {
     "cell_type": "code",
     "collapsed": false,
     "input": [
      "    "
     ],
     "language": "python",
     "metadata": {},
     "outputs": [],
     "prompt_number": 33
    },
    {
     "cell_type": "code",
     "collapsed": false,
     "input": [
      "for i in [(1,0),(2,0),(3,0),(3,1),(4,2),(6,3)]:\n",
      "    try : \n",
      "        print(i[0]/i[1])\n",
      "    except :\n",
      "        print \"Dividing by zero!\"\n",
      "    finally :\n",
      "        print \"Done!\""
     ],
     "language": "python",
     "metadata": {},
     "outputs": [
      {
       "output_type": "stream",
       "stream": "stdout",
       "text": [
        "Dividing by zero!\n",
        "Done!\n",
        "Dividing by zero!\n",
        "Done!\n",
        "Dividing by zero!\n",
        "Done!\n",
        "3\n",
        "Done!\n",
        "2\n",
        "Done!\n",
        "2\n",
        "Done!\n"
       ]
      }
     ],
     "prompt_number": 34
    },
    {
     "cell_type": "code",
     "collapsed": false,
     "input": [],
     "language": "python",
     "metadata": {},
     "outputs": []
    }
   ],
   "metadata": {}
  }
 ]
}