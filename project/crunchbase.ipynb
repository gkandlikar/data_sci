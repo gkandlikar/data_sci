{
 "metadata": {
  "name": ""
 },
 "nbformat": 3,
 "nbformat_minor": 0,
 "worksheets": [
  {
   "cells": [
    {
     "cell_type": "code",
     "collapsed": false,
     "input": [
      "import json\n",
      "import httplib\n",
      "import pprint as pp\n",
      "\n",
      "api_key = '52fppsddmrwecrwejqe6hm37'\n",
      "main_url = 'api.crunchbase.com'\n",
      "site_str = '/v/1/search.js?'\n",
      "\n",
      "\n",
      "def initiate_connection(url):\n",
      "\treturn httplib.HTTPConnection(url)\n",
      "\t\n",
      "def send_query(conn, query, filepath):\n",
      "\tex_fp = open('exceptions.txt', 'w')\n",
      "\tcount, page, outputstr = 0, 0, \"\"\n",
      "\tdone = False\n",
      "\twhile (not done):\n",
      "\t\tpage += 1\n",
      "\t\tif count%500 == 0:\n",
      "\t\t\tprint \"Count: \" + str(count)\n",
      "\t\tconn.request(\"GET\", query+str(page))\n",
      "\t\ttry:\n",
      "\t\t\tresponse = json.loads(conn.getresponse().read())\n",
      "\t\texcept :\n",
      "\t\t\tex_fp.write(json.dumps(response))\n",
      "\t\tif len(response['results']) == 0:\n",
      "\t\t\tdone = True\n",
      "\t\t\tcontinue\n",
      "\t\tfor entity in response['results']:\n",
      "\t\t\tif entity['namespace']=='person':\n",
      "\t\t\t\tname = \"%s, %s\" % (entity['last_name'], entity['first_name'])\n",
      "\t\t\telse :\n",
      "\t\t\t\tname = entity['name']\n",
      "\t\t\ttry:\n",
      "\t\t\t\tcount += 1\n",
      "\t\t\t\toutputstr = \"\\n%s\\t%s\\t%s\" % (name, entity['permalink'],entity['namespace'])\n",
      "\t\t\t\tfilepath.write(outputstr.encode('utf-8'))\n",
      "\t\t\texcept :\n",
      "\t\t\t\tex_fp.write(pp.pprint(response))\n",
      "\n",
      "\t\t\t\n",
      "\n",
      "def main():\n",
      "\toutput = 'simple_output.txt'\n",
      "\tfp = open(output, 'w')\n",
      "\tfp.write('Name\\tpermalink\\tnamespace')\n",
      "\tconnection=initiate_connection(main_url)\n",
      "\tsearch_topic = \"healthcare\"\n",
      "\tquery = \"%squery=%s&api_key=%s&page=\" % (site_str, search_topic, api_key)\n",
      "\tsend_query (connection, query, fp)\n",
      "\tfp.close()\n",
      "\n",
      "if __name__ == '__main__':\n",
      "\tmain()\n",
      "\t\n",
      "\t"
     ],
     "language": "python",
     "metadata": {},
     "outputs": [
      {
       "output_type": "stream",
       "stream": "stdout",
       "text": [
        "Count: 0\n",
        "Count: 500"
       ]
      },
      {
       "output_type": "stream",
       "stream": "stdout",
       "text": [
        "\n",
        "Count: 1000"
       ]
      },
      {
       "output_type": "stream",
       "stream": "stdout",
       "text": [
        "\n",
        "Count: 1500"
       ]
      },
      {
       "output_type": "stream",
       "stream": "stdout",
       "text": [
        "\n",
        "Count: 2000"
       ]
      },
      {
       "output_type": "stream",
       "stream": "stdout",
       "text": [
        "\n",
        "Count: 2500"
       ]
      },
      {
       "output_type": "stream",
       "stream": "stdout",
       "text": [
        "\n",
        "Count: 3000"
       ]
      },
      {
       "output_type": "stream",
       "stream": "stdout",
       "text": [
        "\n",
        "Count: 3500"
       ]
      },
      {
       "output_type": "stream",
       "stream": "stdout",
       "text": [
        "\n",
        "Count: 4000"
       ]
      },
      {
       "output_type": "stream",
       "stream": "stdout",
       "text": [
        "\n",
        "Count: 4500"
       ]
      },
      {
       "output_type": "stream",
       "stream": "stdout",
       "text": [
        "\n",
        "Count: 5000"
       ]
      },
      {
       "output_type": "stream",
       "stream": "stdout",
       "text": [
        "\n",
        "Count: 5500"
       ]
      },
      {
       "output_type": "stream",
       "stream": "stdout",
       "text": [
        "\n",
        "Count: 6000"
       ]
      },
      {
       "output_type": "stream",
       "stream": "stdout",
       "text": [
        "\n",
        "Count: 6500"
       ]
      },
      {
       "output_type": "stream",
       "stream": "stdout",
       "text": [
        "\n",
        "Count: 7000"
       ]
      },
      {
       "output_type": "stream",
       "stream": "stdout",
       "text": [
        "\n",
        "Count: 7500"
       ]
      },
      {
       "output_type": "stream",
       "stream": "stdout",
       "text": [
        "\n"
       ]
      }
     ],
     "prompt_number": 5
    },
    {
     "cell_type": "code",
     "collapsed": false,
     "input": [
      "import json\n",
      "import httplib\n",
      "import pprint as pp\n",
      "import sqlite3\n",
      "\n",
      "api_key = '52fppsddmrwecrwejqe6hm37'\n",
      "main_url = 'api.crunchbase.com'\n",
      "site_str = '/v/1/search.js?'\n",
      "\n",
      "\n",
      "def initiate_connection(url):\n",
      "\treturn httplib.HTTPConnection(url)\n",
      "\t\n",
      "def send_query(conn, query, sql_connection):\n",
      "\tex_fp = open('exceptions.txt', 'w')\n",
      "\tcount, page, outputstr = 0, 0, \"\"\n",
      "\tdone = False\n",
      "\twhile (not done):\n",
      "\t\tpage += 1\n",
      "\t\tsql_connection.commit()\n",
      "\t\tconn.request(\"GET\", query+str(page))\n",
      "\t\ttry:\n",
      "\t\t\tresponse = json.loads(conn.getresponse().read())\n",
      "\t\texcept :\n",
      "\t\t\tex_fp.write(json.dumps(response))\n",
      "\t\tif len(response['results']) == 0:\n",
      "\t\t\tdone = True\n",
      "\t\t\tcontinue\n",
      "\t\tfor entity in response['results']:\n",
      "\t\t\tif entity['namespace']=='person':\n",
      "\t\t\t\tname = \"%s, %s\" % (entity['last_name'], entity['first_name'])\n",
      "\t\t\telse :\n",
      "\t\t\t\tname = entity['name']\n",
      "\t\t\ttry:\n",
      "\t\t\t\tcount += 1\n",
      "\t\t\t\tsql_connection.execute('''INSERT INTO recs VALUES (?, ?, ?)''', (name, entity['permalink'],entity['namespace']))\n",
      "\t\t\t\t\n",
      "\t\t\texcept :\n",
      "\t\t\t\tex_fp.write(pp.pprint(response))\n",
      "\n",
      "\t\t\t\n",
      "\n",
      "def main():\n",
      "\toutput = 'simple_output.txt'\n",
      "\tcb_connection=initiate_connection(main_url)\n",
      "\tsearch_topic = \"healthcare\"\n",
      "\tsql_connection = sqlite3.connect(search_topic+\".db\")\n",
      "\tsql_connection.cursor()\n",
      "\tsql_connection.execute('''DROP TABLE IF EXISTS recs''')\n",
      "\tsql_connection.execute('''CREATE TABLE recs (name text, permalink text, namespace text)''')\n",
      "\tsql_connection.commit()\n",
      "\tquery = \"%squery=%s&api_key=%s&page=\" % (site_str, search_topic, api_key)\n",
      "\tsend_query (cb_connection, query, sql_connection)\n",
      "\tsql_connection.close()\n",
      "\n",
      "if __name__ == '__main__':\n",
      "\tmain()\n",
      "\t\n",
      "\t"
     ],
     "language": "python",
     "metadata": {},
     "outputs": [
      {
       "ename": "IndentationError",
       "evalue": "unindent does not match any outer indentation level (<ipython-input-24-ddb107940640>, line 33)",
       "output_type": "pyerr",
       "traceback": [
        "\u001b[0;36m  File \u001b[0;32m\"<ipython-input-24-ddb107940640>\"\u001b[0;36m, line \u001b[0;32m33\u001b[0m\n\u001b[0;31m    try:\u001b[0m\n\u001b[0m        ^\u001b[0m\n\u001b[0;31mIndentationError\u001b[0m\u001b[0;31m:\u001b[0m unindent does not match any outer indentation level\n"
       ]
      }
     ],
     "prompt_number": 24
    },
    {
     "cell_type": "code",
     "collapsed": false,
     "input": [],
     "language": "python",
     "metadata": {},
     "outputs": []
    }
   ],
   "metadata": {}
  }
 ]
}