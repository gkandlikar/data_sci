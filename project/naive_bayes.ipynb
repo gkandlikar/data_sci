{
 "metadata": {
  "name": ""
 },
 "nbformat": 3,
 "nbformat_minor": 0,
 "worksheets": [
  {
   "cells": [
    {
     "cell_type": "heading",
     "level": 2,
     "metadata": {},
     "source": [
      "Extract useful text"
     ]
    },
    {
     "cell_type": "code",
     "collapsed": false,
     "input": [
      "import os, json\n",
      "from boto.s3.connection import S3Connection\n",
      "import pandas as pd\n",
      "from IPython.parallel import Client\n",
      "\n",
      "cats =['advertising',\n",
      "      'analytics',\n",
      "      'automotive',\n",
      "      'biotech',\n",
      "      'cleantech',\n",
      "      'consulting',\n",
      "      'design',\n",
      "      'ecommerce',\n",
      "      'education',\n",
      "      'enterprise',\n",
      "      'fashion',\n",
      "      'finance',\n",
      "      'games_video',\n",
      "      'government',\n",
      "      'hardware',\n",
      "      'health',\n",
      "      'hospitality',\n",
      "      'legal',\n",
      "      'local',\n",
      "      'manufacturing',\n",
      "      'medical',\n",
      "      'messaging',\n",
      "      'mobile',\n",
      "      'music',\n",
      "      'nanotech',\n",
      "      'network_hosting',\n",
      "      'news',\n",
      "      'nonprofit',\n",
      "      'other',\n",
      "      'pets',\n",
      "      'photo_video',\n",
      "      'public_relations',\n",
      "      'real_estate',\n",
      "      'search',\n",
      "      'security',\n",
      "      'semiconductor',\n",
      "      'social',\n",
      "      'software',\n",
      "      'sports',\n",
      "      'transportation',\n",
      "      'travel',\n",
      "      'web']\n",
      "\n",
      "path='C:\\\\Users\\\\gkand_000\\\\data'\n",
      "c=Client()\n",
      "d=c.direct_view()\n",
      "\n",
      "with d.sync_imports():\n",
      "    import time, json, os\n",
      "    import pandas as pd\n",
      "    from boto.s3.connection import S3Connection\n",
      "    \n",
      "d.push(dict(path=path, cred=cred))    \n",
      "\n",
      "def build_output(companies_split):\n",
      "    #cred = pd.read_csv(''.join((path,'\\\\setup\\\\credentials.csv')))\n",
      "    s3conn=S3Connection(cred['Access Key Id'][0], cred['Secret Access Key'][0])\n",
      "    s3bucket = s3conn.get_bucket('kandlikards')\n",
      "    sections = ['name','overview','tag_list','description']\n",
      "    for company in companies_split:\n",
      "        try: \n",
      "            code = 'test' if not(company['category_code']) else company['category_code']\n",
      "        except KeyError:\n",
      "            code = 'test'\n",
      "        comppath=''.join((path,'\\\\cbproject\\\\',code,'\\\\',company['permalink'],'.json'))\n",
      "        if os.path.exists(comppath):\n",
      "            continue\n",
      "        try:\n",
      "            keyname='crunchbase/'+company['permalink']+'.json'\n",
      "        except KeyError:\n",
      "            continue\n",
      "        text = s3bucket.get_key(keyname).get_contents_as_string()\n",
      "        \n",
      "        try: \n",
      "            json_doc = json.loads(text, strict = False)\n",
      "            output = '\\n'.join(filter(None,[json_doc[key] for key in sections])).encode('utf-8')\n",
      "        except :\n",
      "            continue\n",
      "        with open(comppath, 'w') as outputfile:\n",
      "            outputfile.write(output)\n",
      "        time.sleep(0.10)\n",
      "\n",
      "\n",
      "def make_folders():\n",
      "    for cat in cats:\n",
      "        if not os.path.exists(''.join((path,'\\\\',cat))):\n",
      "            os.mkdir(''.join((path,'\\\\',cat)))\n",
      "            \n",
      "cred = pd.read_csv(''.join((path,'\\\\0setup\\\\credentials.csv')))\n",
      "s3conn=S3Connection(cred['Access Key Id'][0], cred['Secret Access Key'][0])\n",
      "s3bucket = s3conn.get_bucket('kandlikards')\n",
      "\n",
      "with open(path+'\\\\companies.json') as f:\n",
      "    companies_all=json.loads(f.read(), strict = False)\n",
      "\n",
      "companies_split=[]\n",
      "for i in range(8):\n",
      "    companies_split.append(companies_all[i::8])\n",
      "    \n",
      "make_folders()\n",
      "results = d.map_async(build_output, companies_split)\n",
      "        \n",
      "\n"
     ],
     "language": "python",
     "metadata": {},
     "outputs": [
      {
       "output_type": "stream",
       "stream": "stdout",
       "text": [
        "importing time on engine(s)\n",
        "importing json on engine(s)\n",
        "importing os on engine(s)\n",
        "importing pandas on engine(s)\n",
        "importing S3Connection from boto.s3.connection on engine(s)\n"
       ]
      }
     ],
     "prompt_number": 88
    },
    {
     "cell_type": "code",
     "collapsed": false,
     "input": [
      "import time\n",
      "\n",
      "while not results.ready():\n",
      "    print 'not just yet. %s' % (time.strftime(\"%d %b %Y %H:%M:%S\", time.gmtime()))\n",
      "    time.sleep(180)\n",
      "    \n",
      "valid=results.get()"
     ],
     "language": "python",
     "metadata": {},
     "outputs": [
      {
       "output_type": "stream",
       "stream": "stdout",
       "text": [
        "not just yet. 31 Mar 2014 18:42:33\n",
        "not just yet. 31 Mar 2014 18:45:33"
       ]
      },
      {
       "output_type": "stream",
       "stream": "stdout",
       "text": [
        "\n",
        "not just yet. 31 Mar 2014 18:48:33"
       ]
      },
      {
       "output_type": "stream",
       "stream": "stdout",
       "text": [
        "\n",
        "not just yet. 31 Mar 2014 18:51:33"
       ]
      },
      {
       "output_type": "stream",
       "stream": "stdout",
       "text": [
        "\n",
        "not just yet. 31 Mar 2014 18:54:33"
       ]
      },
      {
       "output_type": "stream",
       "stream": "stdout",
       "text": [
        "\n",
        "not just yet. 31 Mar 2014 18:57:33"
       ]
      },
      {
       "output_type": "stream",
       "stream": "stdout",
       "text": [
        "\n",
        "not just yet. 31 Mar 2014 19:00:33"
       ]
      },
      {
       "output_type": "stream",
       "stream": "stdout",
       "text": [
        "\n",
        "not just yet. 31 Mar 2014 19:03:33"
       ]
      },
      {
       "output_type": "stream",
       "stream": "stdout",
       "text": [
        "\n",
        "not just yet. 31 Mar 2014 19:06:33"
       ]
      },
      {
       "output_type": "stream",
       "stream": "stdout",
       "text": [
        "\n",
        "not just yet. 31 Mar 2014 19:09:33"
       ]
      },
      {
       "output_type": "stream",
       "stream": "stdout",
       "text": [
        "\n",
        "not just yet. 31 Mar 2014 19:12:33"
       ]
      },
      {
       "output_type": "stream",
       "stream": "stdout",
       "text": [
        "\n",
        "not just yet. 31 Mar 2014 19:15:33"
       ]
      },
      {
       "output_type": "stream",
       "stream": "stdout",
       "text": [
        "\n",
        "not just yet. 31 Mar 2014 19:18:33"
       ]
      },
      {
       "output_type": "stream",
       "stream": "stdout",
       "text": [
        "\n",
        "not just yet. 31 Mar 2014 19:21:33"
       ]
      },
      {
       "output_type": "stream",
       "stream": "stdout",
       "text": [
        "\n",
        "not just yet. 31 Mar 2014 19:24:33"
       ]
      },
      {
       "output_type": "stream",
       "stream": "stdout",
       "text": [
        "\n",
        "not just yet. 31 Mar 2014 19:27:33"
       ]
      },
      {
       "output_type": "stream",
       "stream": "stdout",
       "text": [
        "\n",
        "not just yet. 31 Mar 2014 19:30:33"
       ]
      },
      {
       "output_type": "stream",
       "stream": "stdout",
       "text": [
        "\n",
        "not just yet. 31 Mar 2014 19:33:33"
       ]
      },
      {
       "output_type": "stream",
       "stream": "stdout",
       "text": [
        "\n",
        "not just yet. 31 Mar 2014 19:36:33"
       ]
      },
      {
       "output_type": "stream",
       "stream": "stdout",
       "text": [
        "\n",
        "not just yet. 31 Mar 2014 19:39:33"
       ]
      },
      {
       "output_type": "stream",
       "stream": "stdout",
       "text": [
        "\n",
        "not just yet. 31 Mar 2014 19:42:33"
       ]
      },
      {
       "output_type": "stream",
       "stream": "stdout",
       "text": [
        "\n",
        "not just yet. 31 Mar 2014 19:45:33"
       ]
      },
      {
       "output_type": "stream",
       "stream": "stdout",
       "text": [
        "\n",
        "not just yet. 31 Mar 2014 19:48:33"
       ]
      },
      {
       "output_type": "stream",
       "stream": "stdout",
       "text": [
        "\n",
        "not just yet. 31 Mar 2014 19:51:33"
       ]
      },
      {
       "output_type": "stream",
       "stream": "stdout",
       "text": [
        "\n",
        "not just yet. 31 Mar 2014 19:54:33"
       ]
      },
      {
       "output_type": "stream",
       "stream": "stdout",
       "text": [
        "\n",
        "not just yet. 31 Mar 2014 19:57:33"
       ]
      },
      {
       "output_type": "stream",
       "stream": "stdout",
       "text": [
        "\n",
        "not just yet. 31 Mar 2014 20:00:33"
       ]
      },
      {
       "output_type": "stream",
       "stream": "stdout",
       "text": [
        "\n",
        "not just yet. 31 Mar 2014 20:03:33"
       ]
      },
      {
       "output_type": "stream",
       "stream": "stdout",
       "text": [
        "\n",
        "not just yet. 31 Mar 2014 20:06:33"
       ]
      },
      {
       "output_type": "stream",
       "stream": "stdout",
       "text": [
        "\n",
        "not just yet. 31 Mar 2014 20:09:33"
       ]
      },
      {
       "output_type": "stream",
       "stream": "stdout",
       "text": [
        "\n",
        "not just yet. 31 Mar 2014 20:12:33"
       ]
      },
      {
       "output_type": "stream",
       "stream": "stdout",
       "text": [
        "\n",
        "not just yet. 31 Mar 2014 20:15:33"
       ]
      },
      {
       "output_type": "stream",
       "stream": "stdout",
       "text": [
        "\n",
        "not just yet. 31 Mar 2014 20:18:33"
       ]
      },
      {
       "output_type": "stream",
       "stream": "stdout",
       "text": [
        "\n",
        "not just yet. 31 Mar 2014 20:21:33"
       ]
      },
      {
       "output_type": "stream",
       "stream": "stdout",
       "text": [
        "\n",
        "not just yet. 31 Mar 2014 20:24:33"
       ]
      },
      {
       "output_type": "stream",
       "stream": "stdout",
       "text": [
        "\n",
        "not just yet. 31 Mar 2014 20:27:33"
       ]
      },
      {
       "output_type": "stream",
       "stream": "stdout",
       "text": [
        "\n",
        "not just yet. 31 Mar 2014 20:30:33"
       ]
      },
      {
       "output_type": "stream",
       "stream": "stdout",
       "text": [
        "\n",
        "not just yet. 31 Mar 2014 20:33:33"
       ]
      },
      {
       "output_type": "stream",
       "stream": "stdout",
       "text": [
        "\n",
        "not just yet. 31 Mar 2014 20:36:33"
       ]
      },
      {
       "output_type": "stream",
       "stream": "stdout",
       "text": [
        "\n",
        "not just yet. 31 Mar 2014 20:39:33"
       ]
      },
      {
       "output_type": "stream",
       "stream": "stdout",
       "text": [
        "\n",
        "not just yet. 31 Mar 2014 20:42:33"
       ]
      },
      {
       "output_type": "stream",
       "stream": "stdout",
       "text": [
        "\n",
        "not just yet. 31 Mar 2014 20:45:33"
       ]
      },
      {
       "output_type": "stream",
       "stream": "stdout",
       "text": [
        "\n",
        "not just yet. 31 Mar 2014 20:48:33"
       ]
      },
      {
       "output_type": "stream",
       "stream": "stdout",
       "text": [
        "\n",
        "not just yet. 31 Mar 2014 20:51:33"
       ]
      },
      {
       "output_type": "stream",
       "stream": "stdout",
       "text": [
        "\n",
        "not just yet. 31 Mar 2014 20:54:33"
       ]
      },
      {
       "output_type": "stream",
       "stream": "stdout",
       "text": [
        "\n",
        "not just yet. 31 Mar 2014 20:57:33"
       ]
      },
      {
       "output_type": "stream",
       "stream": "stdout",
       "text": [
        "\n",
        "not just yet. 31 Mar 2014 21:00:33"
       ]
      },
      {
       "output_type": "stream",
       "stream": "stdout",
       "text": [
        "\n",
        "not just yet. 31 Mar 2014 21:03:33"
       ]
      },
      {
       "output_type": "stream",
       "stream": "stdout",
       "text": [
        "\n",
        "not just yet. 31 Mar 2014 21:06:33"
       ]
      },
      {
       "output_type": "stream",
       "stream": "stdout",
       "text": [
        "\n",
        "not just yet. 31 Mar 2014 21:09:33"
       ]
      },
      {
       "output_type": "stream",
       "stream": "stdout",
       "text": [
        "\n",
        "not just yet. 31 Mar 2014 21:12:33"
       ]
      },
      {
       "output_type": "stream",
       "stream": "stdout",
       "text": [
        "\n",
        "not just yet. 31 Mar 2014 21:15:33"
       ]
      },
      {
       "output_type": "stream",
       "stream": "stdout",
       "text": [
        "\n",
        "not just yet. 31 Mar 2014 21:18:33"
       ]
      },
      {
       "output_type": "stream",
       "stream": "stdout",
       "text": [
        "\n",
        "not just yet. 31 Mar 2014 21:21:33"
       ]
      },
      {
       "output_type": "stream",
       "stream": "stdout",
       "text": [
        "\n",
        "not just yet. 31 Mar 2014 21:24:33"
       ]
      },
      {
       "output_type": "stream",
       "stream": "stdout",
       "text": [
        "\n",
        "not just yet. 31 Mar 2014 21:27:33"
       ]
      },
      {
       "ename": "KeyboardInterrupt",
       "evalue": "",
       "output_type": "pyerr",
       "traceback": [
        "\u001b[1;31m---------------------------------------------------------------------------\u001b[0m\n\u001b[1;31mKeyboardInterrupt\u001b[0m                         Traceback (most recent call last)",
        "\u001b[1;32m<ipython-input-89-6d610f450753>\u001b[0m in \u001b[0;36m<module>\u001b[1;34m()\u001b[0m\n\u001b[0;32m      3\u001b[0m \u001b[1;32mwhile\u001b[0m \u001b[1;32mnot\u001b[0m \u001b[0mresults\u001b[0m\u001b[1;33m.\u001b[0m\u001b[0mready\u001b[0m\u001b[1;33m(\u001b[0m\u001b[1;33m)\u001b[0m\u001b[1;33m:\u001b[0m\u001b[1;33m\u001b[0m\u001b[0m\n\u001b[0;32m      4\u001b[0m     \u001b[1;32mprint\u001b[0m \u001b[1;34m'not just yet. %s'\u001b[0m \u001b[1;33m%\u001b[0m \u001b[1;33m(\u001b[0m\u001b[0mtime\u001b[0m\u001b[1;33m.\u001b[0m\u001b[0mstrftime\u001b[0m\u001b[1;33m(\u001b[0m\u001b[1;34m\"%d %b %Y %H:%M:%S\"\u001b[0m\u001b[1;33m,\u001b[0m \u001b[0mtime\u001b[0m\u001b[1;33m.\u001b[0m\u001b[0mgmtime\u001b[0m\u001b[1;33m(\u001b[0m\u001b[1;33m)\u001b[0m\u001b[1;33m)\u001b[0m\u001b[1;33m)\u001b[0m\u001b[1;33m\u001b[0m\u001b[0m\n\u001b[1;32m----> 5\u001b[1;33m     \u001b[0mtime\u001b[0m\u001b[1;33m.\u001b[0m\u001b[0msleep\u001b[0m\u001b[1;33m(\u001b[0m\u001b[1;36m180\u001b[0m\u001b[1;33m)\u001b[0m\u001b[1;33m\u001b[0m\u001b[0m\n\u001b[0m\u001b[0;32m      6\u001b[0m \u001b[1;33m\u001b[0m\u001b[0m\n\u001b[0;32m      7\u001b[0m \u001b[0mvalid\u001b[0m\u001b[1;33m=\u001b[0m\u001b[0mresults\u001b[0m\u001b[1;33m.\u001b[0m\u001b[0mget\u001b[0m\u001b[1;33m(\u001b[0m\u001b[1;33m)\u001b[0m\u001b[1;33m\u001b[0m\u001b[0m\n",
        "\u001b[1;31mKeyboardInterrupt\u001b[0m: "
       ]
      },
      {
       "output_type": "stream",
       "stream": "stdout",
       "text": [
        "\n"
       ]
      }
     ],
     "prompt_number": 89
    },
    {
     "cell_type": "raw",
     "metadata": {},
     "source": [
      "After that is done, manually (randomly) assign docsto test/train folders"
     ]
    },
    {
     "cell_type": "heading",
     "level": 2,
     "metadata": {},
     "source": [
      "Scikit Learn!"
     ]
    },
    {
     "cell_type": "code",
     "collapsed": false,
     "input": [
      "from sklearn.datasets import load_files\n",
      "from sklearn.feature_extraction.text import TfidfVectorizer\n",
      "\n",
      "# Load the text data\n",
      "categories = [\n",
      "    'ecommerce',\n",
      "    'education',\n",
      "    'software',\n",
      "    'biotech',\n",
      "]\n",
      "path='C:\\\\Users\\\\gkand_000\\\\data\\\\cbproject'\n",
      "\n",
      "cb_train_small = load_files(''.join((path,'\\\\inittrain\\\\')),\n",
      "    categories=categories, encoding='utf-8')\n",
      "cb_test_small = load_files(''.join((path, '\\\\inittest\\\\')),\n",
      "    categories=categories, encoding='utf-8')\n",
      "\n",
      "\n",
      "'''\n",
      "I wanted to play around with the parameters a little more, but ran out of time.\n",
      "In particular, strip out any html tags. COnsidered BeautifulSoup.\n",
      "'''\n",
      "\n",
      "# Turn the text documents into vectors of word frequencies\n",
      "vectorizer = TfidfVectorizer(min_df=2)\n",
      "text_train = vectorizer.fit_transform(cb_train_small.data)\n",
      "cat_train = cb_train_small.target"
     ],
     "language": "python",
     "metadata": {},
     "outputs": [],
     "prompt_number": 117
    },
    {
     "cell_type": "heading",
     "level": 2,
     "metadata": {},
     "source": [
      "Use the Tf-Idf Vectorizer to transform data."
     ]
    },
    {
     "cell_type": "heading",
     "level": 2,
     "metadata": {},
     "source": [
      "Run SVD analysis to see if reducing the data to 2 dimensions is informative."
     ]
    },
    {
     "cell_type": "code",
     "collapsed": false,
     "input": [
      "%matplotlib inline\n",
      "import matplotlib.pyplot as plt\n",
      "import numpy as np\n",
      "\n",
      "# Some nice default configuration for plots\n",
      "plt.rcParams['figure.figsize'] = 10, 7.5\n",
      "plt.rcParams['axes.grid'] = True\n",
      "plt.gray()\n",
      "\n",
      "from sklearn.feature_extraction.text import TfidfVectorizer\n",
      "\n",
      "vectorizer = TfidfVectorizer(min_df=1)\n",
      "\n",
      "cb_train_x_vector = vectorizer.fit_transform(cb_train_small.data)\n",
      "cb_train_y_vector = cat_train\n",
      "\n",
      "'''Figuring out the principal components'''\n",
      "'''Are the like records roughly grouped together?'''\n",
      "\n",
      "from sklearn.decomposition import TruncatedSVD\n",
      "\n",
      "cb_train_x_vector_pca = TruncatedSVD(n_components=2).fit_transform(cb_train_x_vector)\n",
      "\n",
      "from itertools import cycle\n",
      "\n",
      "colors = ['b', 'g', 'r', 'c', 'm', 'y', 'k']\n",
      "for i, c in zip(np.unique(cb_train_y_vector), cycle(colors)):\n",
      "    plt.scatter(cb_train_x_vector_pca[cb_train_y_vector == i, 0],\n",
      "               cb_train_x_vector_pca[cb_train_y_vector == i, 1],\n",
      "               c=c, label=cb_train_small.target_names[i], alpha=0.5)\n",
      "    \n",
      "_ = plt.legend(loc='best')\n"
     ],
     "language": "python",
     "metadata": {},
     "outputs": [
      {
       "metadata": {},
       "output_type": "display_data",
       "png": "[encoded data removed]",
       "text": [
        "<matplotlib.figure.Figure at 0x17d2fb38>"
       ]
      }
     ],
     "prompt_number": 119
    },
    {
     "cell_type": "heading",
     "level": 2,
     "metadata": {},
     "source": [
      "Recheck Dimensions"
     ]
    },
    {
     "cell_type": "code",
     "collapsed": false,
     "input": [
      "print cb_train_x_vector.shape\n",
      "print cb_train_y_vector.shape"
     ],
     "language": "python",
     "metadata": {},
     "outputs": [
      {
       "output_type": "stream",
       "stream": "stdout",
       "text": [
        "(22238, 73593)\n",
        "(22238L,)\n"
       ]
      }
     ],
     "prompt_number": 120
    },
    {
     "cell_type": "code",
     "collapsed": false,
     "input": [
      "print text_test.shape\n",
      "print cat_test.shape\n",
      "\n",
      "print len(cb_test_small.data)\n",
      "print len(cb_test_small.target)"
     ],
     "language": "python",
     "metadata": {},
     "outputs": [
      {
       "output_type": "stream",
       "stream": "stdout",
       "text": [
        "(11241, 47244)\n",
        "(11241L,)\n",
        "11241\n",
        "11241\n"
       ]
      }
     ],
     "prompt_number": 121
    },
    {
     "cell_type": "code",
     "collapsed": false,
     "input": [
      "from sklearn.naive_bayes import MultinomialNB\n",
      "\n",
      "vectorizer = TfidfVectorizer(min_df=2)\n",
      "text_train = vectorizer.fit_transform(cb_train_small.data)\n",
      "cat_train = cb_train_small.target\n",
      "\n",
      "print cat_train.shape[0] == text_train.shape[0]\n",
      "\n",
      "# Fit a classifier on the training set\n",
      "classifier = MultinomialNB().fit(text_train, cat_train)\n",
      "print(\"Training score: {0:.1f}%\".format(\n",
      "    classifier.score(text_train, cat_train) * 100))\n",
      "\n",
      "# Evaluate the classifier on the testing set\n",
      "text_test = vectorizer.transform(cb_test_small.data)\n",
      "cat_test = cb_test_small.target\n",
      "\n",
      "text_test\n",
      "\n",
      "print(\"Testing score: {0:.1f}%\".format(\n",
      "    classifier.score(text_test, cat_test) * 100))\n",
      "\n"
     ],
     "language": "python",
     "metadata": {},
     "outputs": [
      {
       "output_type": "stream",
       "stream": "stdout",
       "text": [
        "True\n",
        "Training score: 81.4%"
       ]
      },
      {
       "output_type": "stream",
       "stream": "stdout",
       "text": [
        "\n",
        "Testing score: 75.0%"
       ]
      },
      {
       "output_type": "stream",
       "stream": "stdout",
       "text": [
        "\n"
       ]
      }
     ],
     "prompt_number": 127
    },
    {
     "cell_type": "heading",
     "level": 2,
     "metadata": {},
     "source": [
      "Cross Validate - Results are not great\n"
     ]
    },
    {
     "cell_type": "code",
     "collapsed": false,
     "input": [
      "from sklearn.cross_validation import cross_val_score\n",
      "from scipy.stats import sem\n",
      "from sklearn.pipeline import Pipeline\n",
      "\n",
      "pipe = Pipeline((\n",
      "    ('vectorizer', TfidfVectorizer(max_df=0.8, use_idf=True, stop_words='english')),\n",
      "    ('classifier', MultinomialNB(alpha=1.0)),\n",
      "))\n",
      "\n",
      "scores = cross_val_score(pipe, cb_train_small.data, cb_train_small.target, cv = 4)\n",
      "\n",
      "print scores\n",
      "print \"\"\n",
      "print \"\\n Mean: \" + str(scores.mean())\n",
      "print \"\\n Standard Error: \" + str(sem(scores))"
     ],
     "language": "python",
     "metadata": {},
     "outputs": [
      {
       "output_type": "stream",
       "stream": "stdout",
       "text": [
        "[ 0.72464029  0.71852518  0.7222522   0.72333153]\n",
        "\n",
        "\n",
        " Mean: 0.722187301427\n",
        "\n",
        " Standard Error: 0.00131471663303\n"
       ]
      }
     ],
     "prompt_number": 187
    },
    {
     "cell_type": "heading",
     "level": 2,
     "metadata": {},
     "source": [
      "GridSearch to the Rescue."
     ]
    },
    {
     "cell_type": "code",
     "collapsed": false,
     "input": [
      "from sklearn.grid_search import GridSearchCV\n",
      "\n",
      "params = {\n",
      "    'vectorizer__max_df': [0.75, 0.8],\n",
      "    'vectorizer__use_idf': [True, False],\n",
      "    'vectorizer__ngram_range':[(1, 1), (1, 2)],\n",
      "    'classifier__alpha': [0.1, 1, 10, 100]\n",
      "}\n",
      "\n",
      "grid_search = GridSearchCV(pipe, params, verbose=2, refit=False)\n",
      "_ = grid_search.fit(cb_train_small.data, cb_train_small.target)\n",
      "\n",
      "\n",
      "print \"Best Score:  \" + str(grid_search.best_score_)\n",
      "print \"Best Params: \" + str(grid_search.best_params_)\n"
     ],
     "language": "python",
     "metadata": {},
     "outputs": [
      {
       "output_type": "stream",
       "stream": "stdout",
       "text": [
        "Fitting 3 folds for each of 32 candidates, totalling 96 fits\n",
        "[GridSearchCV] vectorizer__use_idf=True, vectorizer__ngram_range=(1, 1), vectorizer__max_df=0.75, classifier__alpha=0.1 \n",
        "[GridSearchCV]  vectorizer__use_idf=True, vectorizer__ngram_range=(1, 1), vectorizer__max_df=0.75, classifier__alpha=0.1 -   2.1s"
       ]
      },
      {
       "output_type": "stream",
       "stream": "stdout",
       "text": [
        "\n",
        "[GridSearchCV] vectorizer__use_idf=True, vectorizer__ngram_range=(1, 1), vectorizer__max_df=0.75, classifier__alpha=0.1 \n",
        "[GridSearchCV]  vectorizer__use_idf=True, vectorizer__ngram_range=(1, 1), vectorizer__max_df=0.75, classifier__alpha=0.1 -   2.0s"
       ]
      },
      {
       "output_type": "stream",
       "stream": "stdout",
       "text": [
        "\n",
        "[GridSearchCV] vectorizer__use_idf=True, vectorizer__ngram_range=(1, 1), vectorizer__max_df=0.75, classifier__alpha=0.1 \n",
        "[GridSearchCV]  vectorizer__use_idf=True, vectorizer__ngram_range=(1, 1), vectorizer__max_df=0.75, classifier__alpha=0.1 -   2.0s"
       ]
      },
      {
       "output_type": "stream",
       "stream": "stdout",
       "text": [
        "\n",
        "[GridSearchCV] vectorizer__use_idf=False, vectorizer__ngram_range=(1, 1), vectorizer__max_df=0.75, classifier__alpha=0.1 \n",
        "[GridSearchCV]  vectorizer__use_idf=False, vectorizer__ngram_range=(1, 1), vectorizer__max_df=0.75, classifier__alpha=0.1 -   1.9s"
       ]
      },
      {
       "output_type": "stream",
       "stream": "stdout",
       "text": [
        "\n",
        "[GridSearchCV] vectorizer__use_idf=False, vectorizer__ngram_range=(1, 1), vectorizer__max_df=0.75, classifier__alpha=0.1 \n",
        "[GridSearchCV]  vectorizer__use_idf=False, vectorizer__ngram_range=(1, 1), vectorizer__max_df=0.75, classifier__alpha=0.1 -   1.9s"
       ]
      },
      {
       "output_type": "stream",
       "stream": "stdout",
       "text": [
        "\n",
        "[GridSearchCV] vectorizer__use_idf=False, vectorizer__ngram_range=(1, 1), vectorizer__max_df=0.75, classifier__alpha=0.1 \n",
        "[GridSearchCV]  vectorizer__use_idf=False, vectorizer__ngram_range=(1, 1), vectorizer__max_df=0.75, classifier__alpha=0.1 -   1.9s"
       ]
      },
      {
       "output_type": "stream",
       "stream": "stdout",
       "text": [
        "\n",
        "[GridSearchCV] vectorizer__use_idf=True, vectorizer__ngram_range=(1, 2), vectorizer__max_df=0.75, classifier__alpha=0.1 \n",
        "[GridSearchCV]  vectorizer__use_idf=True, vectorizer__ngram_range=(1, 2), vectorizer__max_df=0.75, classifier__alpha=0.1 -   7.0s"
       ]
      },
      {
       "output_type": "stream",
       "stream": "stdout",
       "text": [
        "\n",
        "[GridSearchCV] vectorizer__use_idf=True, vectorizer__ngram_range=(1, 2), vectorizer__max_df=0.75, classifier__alpha=0.1 "
       ]
      },
      {
       "output_type": "stream",
       "stream": "stdout",
       "text": [
        "\n",
        "[GridSearchCV]  vectorizer__use_idf=True, vectorizer__ngram_range=(1, 2), vectorizer__max_df=0.75, classifier__alpha=0.1 -   7.1s"
       ]
      },
      {
       "output_type": "stream",
       "stream": "stdout",
       "text": [
        "\n",
        "[GridSearchCV] vectorizer__use_idf=True, vectorizer__ngram_range=(1, 2), vectorizer__max_df=0.75, classifier__alpha=0.1 "
       ]
      },
      {
       "output_type": "stream",
       "stream": "stdout",
       "text": [
        "\n",
        "[GridSearchCV]  vectorizer__use_idf=True, vectorizer__ngram_range=(1, 2), vectorizer__max_df=0.75, classifier__alpha=0.1 -   7.1s"
       ]
      },
      {
       "output_type": "stream",
       "stream": "stdout",
       "text": [
        "\n",
        "[GridSearchCV] vectorizer__use_idf=False, vectorizer__ngram_range=(1, 2), vectorizer__max_df=0.75, classifier__alpha=0.1 "
       ]
      },
      {
       "output_type": "stream",
       "stream": "stdout",
       "text": [
        "\n",
        "[GridSearchCV]  vectorizer__use_idf=False, vectorizer__ngram_range=(1, 2), vectorizer__max_df=0.75, classifier__alpha=0.1 -   6.7s"
       ]
      },
      {
       "output_type": "stream",
       "stream": "stdout",
       "text": [
        "\n",
        "[GridSearchCV] vectorizer__use_idf=False, vectorizer__ngram_range=(1, 2), vectorizer__max_df=0.75, classifier__alpha=0.1 "
       ]
      },
      {
       "output_type": "stream",
       "stream": "stdout",
       "text": [
        "\n",
        "[GridSearchCV]  vectorizer__use_idf=False, vectorizer__ngram_range=(1, 2), vectorizer__max_df=0.75, classifier__alpha=0.1 -   6.7s"
       ]
      },
      {
       "output_type": "stream",
       "stream": "stdout",
       "text": [
        "\n",
        "[GridSearchCV] vectorizer__use_idf=False, vectorizer__ngram_range=(1, 2), vectorizer__max_df=0.75, classifier__alpha=0.1 "
       ]
      },
      {
       "output_type": "stream",
       "stream": "stdout",
       "text": [
        "\n",
        "[GridSearchCV]  vectorizer__use_idf=False, vectorizer__ngram_range=(1, 2), vectorizer__max_df=0.75, classifier__alpha=0.1 -   6.9s"
       ]
      },
      {
       "output_type": "stream",
       "stream": "stdout",
       "text": [
        "\n",
        "[GridSearchCV] vectorizer__use_idf=True, vectorizer__ngram_range=(1, 1), vectorizer__max_df=0.8, classifier__alpha=0.1 "
       ]
      },
      {
       "output_type": "stream",
       "stream": "stdout",
       "text": [
        "\n",
        "[GridSearchCV]  vectorizer__use_idf=True, vectorizer__ngram_range=(1, 1), vectorizer__max_df=0.8, classifier__alpha=0.1 -   1.9s"
       ]
      },
      {
       "output_type": "stream",
       "stream": "stdout",
       "text": [
        "\n",
        "[GridSearchCV] vectorizer__use_idf=True, vectorizer__ngram_range=(1, 1), vectorizer__max_df=0.8, classifier__alpha=0.1 \n",
        "[GridSearchCV]  vectorizer__use_idf=True, vectorizer__ngram_range=(1, 1), vectorizer__max_df=0.8, classifier__alpha=0.1 -   1.9s"
       ]
      },
      {
       "output_type": "stream",
       "stream": "stdout",
       "text": [
        "\n",
        "[GridSearchCV] vectorizer__use_idf=True, vectorizer__ngram_range=(1, 1), vectorizer__max_df=0.8, classifier__alpha=0.1 \n",
        "[GridSearchCV]  vectorizer__use_idf=True, vectorizer__ngram_range=(1, 1), vectorizer__max_df=0.8, classifier__alpha=0.1 -   2.0s"
       ]
      },
      {
       "output_type": "stream",
       "stream": "stdout",
       "text": [
        "\n",
        "[GridSearchCV] vectorizer__use_idf=False, vectorizer__ngram_range=(1, 1), vectorizer__max_df=0.8, classifier__alpha=0.1 \n",
        "[GridSearchCV]  vectorizer__use_idf=False, vectorizer__ngram_range=(1, 1), vectorizer__max_df=0.8, classifier__alpha=0.1 -   1.9s"
       ]
      },
      {
       "output_type": "stream",
       "stream": "stdout",
       "text": [
        "\n",
        "[GridSearchCV] vectorizer__use_idf=False, vectorizer__ngram_range=(1, 1), vectorizer__max_df=0.8, classifier__alpha=0.1 \n",
        "[GridSearchCV]  vectorizer__use_idf=False, vectorizer__ngram_range=(1, 1), vectorizer__max_df=0.8, classifier__alpha=0.1 -   1.9s"
       ]
      },
      {
       "output_type": "stream",
       "stream": "stdout",
       "text": [
        "\n",
        "[GridSearchCV] vectorizer__use_idf=False, vectorizer__ngram_range=(1, 1), vectorizer__max_df=0.8, classifier__alpha=0.1 \n",
        "[GridSearchCV]  vectorizer__use_idf=False, vectorizer__ngram_range=(1, 1), vectorizer__max_df=0.8, classifier__alpha=0.1 -   1.9s"
       ]
      },
      {
       "output_type": "stream",
       "stream": "stdout",
       "text": [
        "\n",
        "[GridSearchCV] vectorizer__use_idf=True, vectorizer__ngram_range=(1, 2), vectorizer__max_df=0.8, classifier__alpha=0.1 \n",
        "[GridSearchCV]  vectorizer__use_idf=True, vectorizer__ngram_range=(1, 2), vectorizer__max_df=0.8, classifier__alpha=0.1 -   7.0s"
       ]
      },
      {
       "output_type": "stream",
       "stream": "stdout",
       "text": [
        "\n",
        "[GridSearchCV] vectorizer__use_idf=True, vectorizer__ngram_range=(1, 2), vectorizer__max_df=0.8, classifier__alpha=0.1 "
       ]
      },
      {
       "output_type": "stream",
       "stream": "stdout",
       "text": [
        "\n",
        "[GridSearchCV]  vectorizer__use_idf=True, vectorizer__ngram_range=(1, 2), vectorizer__max_df=0.8, classifier__alpha=0.1 -   7.1s"
       ]
      },
      {
       "output_type": "stream",
       "stream": "stdout",
       "text": [
        "\n",
        "[GridSearchCV] vectorizer__use_idf=True, vectorizer__ngram_range=(1, 2), vectorizer__max_df=0.8, classifier__alpha=0.1 "
       ]
      },
      {
       "output_type": "stream",
       "stream": "stdout",
       "text": [
        "\n",
        "[GridSearchCV]  vectorizer__use_idf=True, vectorizer__ngram_range=(1, 2), vectorizer__max_df=0.8, classifier__alpha=0.1 -   7.1s"
       ]
      },
      {
       "output_type": "stream",
       "stream": "stdout",
       "text": [
        "\n",
        "[GridSearchCV] vectorizer__use_idf=False, vectorizer__ngram_range=(1, 2), vectorizer__max_df=0.8, classifier__alpha=0.1 "
       ]
      },
      {
       "output_type": "stream",
       "stream": "stdout",
       "text": [
        "\n",
        "[GridSearchCV]  vectorizer__use_idf=False, vectorizer__ngram_range=(1, 2), vectorizer__max_df=0.8, classifier__alpha=0.1 -   6.7s"
       ]
      },
      {
       "output_type": "stream",
       "stream": "stdout",
       "text": [
        "\n",
        "[GridSearchCV] vectorizer__use_idf=False, vectorizer__ngram_range=(1, 2), vectorizer__max_df=0.8, classifier__alpha=0.1 "
       ]
      },
      {
       "output_type": "stream",
       "stream": "stdout",
       "text": [
        "\n",
        "[GridSearchCV]  vectorizer__use_idf=False, vectorizer__ngram_range=(1, 2), vectorizer__max_df=0.8, classifier__alpha=0.1 -   6.8s"
       ]
      },
      {
       "output_type": "stream",
       "stream": "stdout",
       "text": [
        "\n",
        "[GridSearchCV] vectorizer__use_idf=False, vectorizer__ngram_range=(1, 2), vectorizer__max_df=0.8, classifier__alpha=0.1 "
       ]
      },
      {
       "output_type": "stream",
       "stream": "stdout",
       "text": [
        "\n",
        "[GridSearchCV]  vectorizer__use_idf=False, vectorizer__ngram_range=(1, 2), vectorizer__max_df=0.8, classifier__alpha=0.1 -   6.7s"
       ]
      },
      {
       "output_type": "stream",
       "stream": "stdout",
       "text": [
        "\n",
        "[GridSearchCV] vectorizer__use_idf=True, vectorizer__ngram_range=(1, 1), vectorizer__max_df=0.75, classifier__alpha=1 "
       ]
      },
      {
       "output_type": "stream",
       "stream": "stdout",
       "text": [
        "\n",
        "[GridSearchCV]  vectorizer__use_idf=True, vectorizer__ngram_range=(1, 1), vectorizer__max_df=0.75, classifier__alpha=1 -   1.9s"
       ]
      },
      {
       "output_type": "stream",
       "stream": "stdout",
       "text": [
        "\n",
        "[GridSearchCV] vectorizer__use_idf=True, vectorizer__ngram_range=(1, 1), vectorizer__max_df=0.75, classifier__alpha=1 \n",
        "[GridSearchCV]  vectorizer__use_idf=True, vectorizer__ngram_range=(1, 1), vectorizer__max_df=0.75, classifier__alpha=1 -   1.9s"
       ]
      },
      {
       "output_type": "stream",
       "stream": "stdout",
       "text": [
        "\n",
        "[GridSearchCV] vectorizer__use_idf=True, vectorizer__ngram_range=(1, 1), vectorizer__max_df=0.75, classifier__alpha=1 \n",
        "[GridSearchCV]  vectorizer__use_idf=True, vectorizer__ngram_range=(1, 1), vectorizer__max_df=0.75, classifier__alpha=1 -   1.9s"
       ]
      },
      {
       "output_type": "stream",
       "stream": "stdout",
       "text": [
        "\n",
        "[GridSearchCV] vectorizer__use_idf=False, vectorizer__ngram_range=(1, 1), vectorizer__max_df=0.75, classifier__alpha=1 \n",
        "[GridSearchCV]  vectorizer__use_idf=False, vectorizer__ngram_range=(1, 1), vectorizer__max_df=0.75, classifier__alpha=1 -   1.9s"
       ]
      },
      {
       "output_type": "stream",
       "stream": "stdout",
       "text": [
        "\n",
        "[GridSearchCV] vectorizer__use_idf=False, vectorizer__ngram_range=(1, 1), vectorizer__max_df=0.75, classifier__alpha=1 \n",
        "[GridSearchCV]  vectorizer__use_idf=False, vectorizer__ngram_range=(1, 1), vectorizer__max_df=0.75, classifier__alpha=1 -   1.9s"
       ]
      },
      {
       "output_type": "stream",
       "stream": "stdout",
       "text": [
        "\n",
        "[GridSearchCV] vectorizer__use_idf=False, vectorizer__ngram_range=(1, 1), vectorizer__max_df=0.75, classifier__alpha=1 \n",
        "[GridSearchCV]  vectorizer__use_idf=False, vectorizer__ngram_range=(1, 1), vectorizer__max_df=0.75, classifier__alpha=1 -   1.9s"
       ]
      },
      {
       "output_type": "stream",
       "stream": "stdout",
       "text": [
        "\n",
        "[GridSearchCV] vectorizer__use_idf=True, vectorizer__ngram_range=(1, 2), vectorizer__max_df=0.75, classifier__alpha=1 \n",
        "[GridSearchCV]  vectorizer__use_idf=True, vectorizer__ngram_range=(1, 2), vectorizer__max_df=0.75, classifier__alpha=1 -   7.1s"
       ]
      },
      {
       "output_type": "stream",
       "stream": "stdout",
       "text": [
        "\n",
        "[GridSearchCV] vectorizer__use_idf=True, vectorizer__ngram_range=(1, 2), vectorizer__max_df=0.75, classifier__alpha=1 "
       ]
      },
      {
       "output_type": "stream",
       "stream": "stdout",
       "text": [
        "\n",
        "[GridSearchCV]  vectorizer__use_idf=True, vectorizer__ngram_range=(1, 2), vectorizer__max_df=0.75, classifier__alpha=1 -   7.0s"
       ]
      },
      {
       "output_type": "stream",
       "stream": "stdout",
       "text": [
        "\n",
        "[GridSearchCV] vectorizer__use_idf=True, vectorizer__ngram_range=(1, 2), vectorizer__max_df=0.75, classifier__alpha=1 "
       ]
      },
      {
       "output_type": "stream",
       "stream": "stdout",
       "text": [
        "\n",
        "[GridSearchCV]  vectorizer__use_idf=True, vectorizer__ngram_range=(1, 2), vectorizer__max_df=0.75, classifier__alpha=1 -   7.1s"
       ]
      },
      {
       "output_type": "stream",
       "stream": "stdout",
       "text": [
        "\n",
        "[GridSearchCV] vectorizer__use_idf=False, vectorizer__ngram_range=(1, 2), vectorizer__max_df=0.75, classifier__alpha=1 "
       ]
      },
      {
       "output_type": "stream",
       "stream": "stdout",
       "text": [
        "\n",
        "[GridSearchCV]  vectorizer__use_idf=False, vectorizer__ngram_range=(1, 2), vectorizer__max_df=0.75, classifier__alpha=1 -   6.7s"
       ]
      },
      {
       "output_type": "stream",
       "stream": "stdout",
       "text": [
        "\n",
        "[GridSearchCV] vectorizer__use_idf=False, vectorizer__ngram_range=(1, 2), vectorizer__max_df=0.75, classifier__alpha=1 "
       ]
      },
      {
       "output_type": "stream",
       "stream": "stdout",
       "text": [
        "\n",
        "[GridSearchCV]  vectorizer__use_idf=False, vectorizer__ngram_range=(1, 2), vectorizer__max_df=0.75, classifier__alpha=1 -   6.7s"
       ]
      },
      {
       "output_type": "stream",
       "stream": "stdout",
       "text": [
        "\n",
        "[GridSearchCV] vectorizer__use_idf=False, vectorizer__ngram_range=(1, 2), vectorizer__max_df=0.75, classifier__alpha=1 "
       ]
      },
      {
       "output_type": "stream",
       "stream": "stdout",
       "text": [
        "\n",
        "[GridSearchCV]  vectorizer__use_idf=False, vectorizer__ngram_range=(1, 2), vectorizer__max_df=0.75, classifier__alpha=1 -   6.7s"
       ]
      },
      {
       "output_type": "stream",
       "stream": "stdout",
       "text": [
        "\n",
        "[GridSearchCV] vectorizer__use_idf=True, vectorizer__ngram_range=(1, 1), vectorizer__max_df=0.8, classifier__alpha=1 "
       ]
      },
      {
       "output_type": "stream",
       "stream": "stdout",
       "text": [
        "\n",
        "[GridSearchCV]  vectorizer__use_idf=True, vectorizer__ngram_range=(1, 1), vectorizer__max_df=0.8, classifier__alpha=1 -   1.9s"
       ]
      },
      {
       "output_type": "stream",
       "stream": "stdout",
       "text": [
        "\n",
        "[GridSearchCV] vectorizer__use_idf=True, vectorizer__ngram_range=(1, 1), vectorizer__max_df=0.8, classifier__alpha=1 \n",
        "[GridSearchCV]  vectorizer__use_idf=True, vectorizer__ngram_range=(1, 1), vectorizer__max_df=0.8, classifier__alpha=1 -   1.9s"
       ]
      },
      {
       "output_type": "stream",
       "stream": "stdout",
       "text": [
        "\n",
        "[GridSearchCV] vectorizer__use_idf=True, vectorizer__ngram_range=(1, 1), vectorizer__max_df=0.8, classifier__alpha=1 \n",
        "[GridSearchCV]  vectorizer__use_idf=True, vectorizer__ngram_range=(1, 1), vectorizer__max_df=0.8, classifier__alpha=1 -   1.9s"
       ]
      },
      {
       "output_type": "stream",
       "stream": "stdout",
       "text": [
        "\n",
        "[GridSearchCV] vectorizer__use_idf=False, vectorizer__ngram_range=(1, 1), vectorizer__max_df=0.8, classifier__alpha=1 \n",
        "[GridSearchCV]  vectorizer__use_idf=False, vectorizer__ngram_range=(1, 1), vectorizer__max_df=0.8, classifier__alpha=1 -   1.9s"
       ]
      },
      {
       "output_type": "stream",
       "stream": "stdout",
       "text": [
        "\n",
        "[GridSearchCV] vectorizer__use_idf=False, vectorizer__ngram_range=(1, 1), vectorizer__max_df=0.8, classifier__alpha=1 \n",
        "[GridSearchCV]  vectorizer__use_idf=False, vectorizer__ngram_range=(1, 1), vectorizer__max_df=0.8, classifier__alpha=1 -   1.9s"
       ]
      },
      {
       "output_type": "stream",
       "stream": "stderr",
       "text": [
        "[Parallel(n_jobs=1)]: Done   1 jobs       | elapsed:    2.1s\n",
        "[Parallel(n_jobs=1)]: Done  41 jobs       | elapsed:  2.9min\n"
       ]
      },
      {
       "output_type": "stream",
       "stream": "stdout",
       "text": [
        "\n",
        "[GridSearchCV] vectorizer__use_idf=False, vectorizer__ngram_range=(1, 1), vectorizer__max_df=0.8, classifier__alpha=1 \n",
        "[GridSearchCV]  vectorizer__use_idf=False, vectorizer__ngram_range=(1, 1), vectorizer__max_df=0.8, classifier__alpha=1 -   1.9s"
       ]
      },
      {
       "output_type": "stream",
       "stream": "stdout",
       "text": [
        "\n",
        "[GridSearchCV] vectorizer__use_idf=True, vectorizer__ngram_range=(1, 2), vectorizer__max_df=0.8, classifier__alpha=1 \n",
        "[GridSearchCV]  vectorizer__use_idf=True, vectorizer__ngram_range=(1, 2), vectorizer__max_df=0.8, classifier__alpha=1 -   8.4s"
       ]
      },
      {
       "output_type": "stream",
       "stream": "stdout",
       "text": [
        "\n",
        "[GridSearchCV] vectorizer__use_idf=True, vectorizer__ngram_range=(1, 2), vectorizer__max_df=0.8, classifier__alpha=1 "
       ]
      },
      {
       "output_type": "stream",
       "stream": "stdout",
       "text": [
        "\n",
        "[GridSearchCV]  vectorizer__use_idf=True, vectorizer__ngram_range=(1, 2), vectorizer__max_df=0.8, classifier__alpha=1 -   7.4s"
       ]
      },
      {
       "output_type": "stream",
       "stream": "stdout",
       "text": [
        "\n",
        "[GridSearchCV] vectorizer__use_idf=True, vectorizer__ngram_range=(1, 2), vectorizer__max_df=0.8, classifier__alpha=1 "
       ]
      },
      {
       "output_type": "stream",
       "stream": "stdout",
       "text": [
        "\n",
        "[GridSearchCV]  vectorizer__use_idf=True, vectorizer__ngram_range=(1, 2), vectorizer__max_df=0.8, classifier__alpha=1 -   7.2s"
       ]
      },
      {
       "output_type": "stream",
       "stream": "stdout",
       "text": [
        "\n",
        "[GridSearchCV] vectorizer__use_idf=False, vectorizer__ngram_range=(1, 2), vectorizer__max_df=0.8, classifier__alpha=1 "
       ]
      },
      {
       "output_type": "stream",
       "stream": "stdout",
       "text": [
        "\n",
        "[GridSearchCV]  vectorizer__use_idf=False, vectorizer__ngram_range=(1, 2), vectorizer__max_df=0.8, classifier__alpha=1 -   6.8s"
       ]
      },
      {
       "output_type": "stream",
       "stream": "stdout",
       "text": [
        "\n",
        "[GridSearchCV] vectorizer__use_idf=False, vectorizer__ngram_range=(1, 2), vectorizer__max_df=0.8, classifier__alpha=1 "
       ]
      },
      {
       "output_type": "stream",
       "stream": "stdout",
       "text": [
        "\n",
        "[GridSearchCV]  vectorizer__use_idf=False, vectorizer__ngram_range=(1, 2), vectorizer__max_df=0.8, classifier__alpha=1 -   6.7s"
       ]
      },
      {
       "output_type": "stream",
       "stream": "stdout",
       "text": [
        "\n",
        "[GridSearchCV] vectorizer__use_idf=False, vectorizer__ngram_range=(1, 2), vectorizer__max_df=0.8, classifier__alpha=1 "
       ]
      },
      {
       "output_type": "stream",
       "stream": "stdout",
       "text": [
        "\n",
        "[GridSearchCV]  vectorizer__use_idf=False, vectorizer__ngram_range=(1, 2), vectorizer__max_df=0.8, classifier__alpha=1 -   6.8s"
       ]
      },
      {
       "output_type": "stream",
       "stream": "stdout",
       "text": [
        "\n",
        "[GridSearchCV] vectorizer__use_idf=True, vectorizer__ngram_range=(1, 1), vectorizer__max_df=0.75, classifier__alpha=10 "
       ]
      },
      {
       "output_type": "stream",
       "stream": "stdout",
       "text": [
        "\n",
        "[GridSearchCV]  vectorizer__use_idf=True, vectorizer__ngram_range=(1, 1), vectorizer__max_df=0.75, classifier__alpha=10 -   1.9s"
       ]
      },
      {
       "output_type": "stream",
       "stream": "stdout",
       "text": [
        "\n",
        "[GridSearchCV] vectorizer__use_idf=True, vectorizer__ngram_range=(1, 1), vectorizer__max_df=0.75, classifier__alpha=10 \n",
        "[GridSearchCV]  vectorizer__use_idf=True, vectorizer__ngram_range=(1, 1), vectorizer__max_df=0.75, classifier__alpha=10 -   1.9s"
       ]
      },
      {
       "output_type": "stream",
       "stream": "stdout",
       "text": [
        "\n",
        "[GridSearchCV] vectorizer__use_idf=True, vectorizer__ngram_range=(1, 1), vectorizer__max_df=0.75, classifier__alpha=10 \n",
        "[GridSearchCV]  vectorizer__use_idf=True, vectorizer__ngram_range=(1, 1), vectorizer__max_df=0.75, classifier__alpha=10 -   1.9s"
       ]
      },
      {
       "output_type": "stream",
       "stream": "stdout",
       "text": [
        "\n",
        "[GridSearchCV] vectorizer__use_idf=False, vectorizer__ngram_range=(1, 1), vectorizer__max_df=0.75, classifier__alpha=10 \n",
        "[GridSearchCV]  vectorizer__use_idf=False, vectorizer__ngram_range=(1, 1), vectorizer__max_df=0.75, classifier__alpha=10 -   1.9s"
       ]
      },
      {
       "output_type": "stream",
       "stream": "stdout",
       "text": [
        "\n",
        "[GridSearchCV] vectorizer__use_idf=False, vectorizer__ngram_range=(1, 1), vectorizer__max_df=0.75, classifier__alpha=10 \n",
        "[GridSearchCV]  vectorizer__use_idf=False, vectorizer__ngram_range=(1, 1), vectorizer__max_df=0.75, classifier__alpha=10 -   1.9s"
       ]
      },
      {
       "output_type": "stream",
       "stream": "stdout",
       "text": [
        "\n",
        "[GridSearchCV] vectorizer__use_idf=False, vectorizer__ngram_range=(1, 1), vectorizer__max_df=0.75, classifier__alpha=10 \n",
        "[GridSearchCV]  vectorizer__use_idf=False, vectorizer__ngram_range=(1, 1), vectorizer__max_df=0.75, classifier__alpha=10 -   1.9s"
       ]
      },
      {
       "output_type": "stream",
       "stream": "stdout",
       "text": [
        "\n",
        "[GridSearchCV] vectorizer__use_idf=True, vectorizer__ngram_range=(1, 2), vectorizer__max_df=0.75, classifier__alpha=10 \n",
        "[GridSearchCV]  vectorizer__use_idf=True, vectorizer__ngram_range=(1, 2), vectorizer__max_df=0.75, classifier__alpha=10 -   7.4s"
       ]
      },
      {
       "output_type": "stream",
       "stream": "stdout",
       "text": [
        "\n",
        "[GridSearchCV] vectorizer__use_idf=True, vectorizer__ngram_range=(1, 2), vectorizer__max_df=0.75, classifier__alpha=10 "
       ]
      },
      {
       "output_type": "stream",
       "stream": "stdout",
       "text": [
        "\n",
        "[GridSearchCV]  vectorizer__use_idf=True, vectorizer__ngram_range=(1, 2), vectorizer__max_df=0.75, classifier__alpha=10 -   7.7s"
       ]
      },
      {
       "output_type": "stream",
       "stream": "stdout",
       "text": [
        "\n",
        "[GridSearchCV] vectorizer__use_idf=True, vectorizer__ngram_range=(1, 2), vectorizer__max_df=0.75, classifier__alpha=10 "
       ]
      },
      {
       "output_type": "stream",
       "stream": "stdout",
       "text": [
        "\n",
        "[GridSearchCV]  vectorizer__use_idf=True, vectorizer__ngram_range=(1, 2), vectorizer__max_df=0.75, classifier__alpha=10 -   7.1s"
       ]
      },
      {
       "output_type": "stream",
       "stream": "stdout",
       "text": [
        "\n",
        "[GridSearchCV] vectorizer__use_idf=False, vectorizer__ngram_range=(1, 2), vectorizer__max_df=0.75, classifier__alpha=10 "
       ]
      },
      {
       "output_type": "stream",
       "stream": "stdout",
       "text": [
        "\n",
        "[GridSearchCV]  vectorizer__use_idf=False, vectorizer__ngram_range=(1, 2), vectorizer__max_df=0.75, classifier__alpha=10 -   6.7s"
       ]
      },
      {
       "output_type": "stream",
       "stream": "stdout",
       "text": [
        "\n",
        "[GridSearchCV] vectorizer__use_idf=False, vectorizer__ngram_range=(1, 2), vectorizer__max_df=0.75, classifier__alpha=10 "
       ]
      },
      {
       "output_type": "stream",
       "stream": "stdout",
       "text": [
        "\n",
        "[GridSearchCV]  vectorizer__use_idf=False, vectorizer__ngram_range=(1, 2), vectorizer__max_df=0.75, classifier__alpha=10 -   6.7s"
       ]
      },
      {
       "output_type": "stream",
       "stream": "stdout",
       "text": [
        "\n",
        "[GridSearchCV] vectorizer__use_idf=False, vectorizer__ngram_range=(1, 2), vectorizer__max_df=0.75, classifier__alpha=10 "
       ]
      },
      {
       "output_type": "stream",
       "stream": "stdout",
       "text": [
        "\n",
        "[GridSearchCV]  vectorizer__use_idf=False, vectorizer__ngram_range=(1, 2), vectorizer__max_df=0.75, classifier__alpha=10 -   7.4s"
       ]
      },
      {
       "output_type": "stream",
       "stream": "stdout",
       "text": [
        "\n",
        "[GridSearchCV] vectorizer__use_idf=True, vectorizer__ngram_range=(1, 1), vectorizer__max_df=0.8, classifier__alpha=10 "
       ]
      },
      {
       "output_type": "stream",
       "stream": "stdout",
       "text": [
        "\n",
        "[GridSearchCV]  vectorizer__use_idf=True, vectorizer__ngram_range=(1, 1), vectorizer__max_df=0.8, classifier__alpha=10 -   2.1s"
       ]
      },
      {
       "output_type": "stream",
       "stream": "stdout",
       "text": [
        "\n",
        "[GridSearchCV] vectorizer__use_idf=True, vectorizer__ngram_range=(1, 1), vectorizer__max_df=0.8, classifier__alpha=10 \n",
        "[GridSearchCV]  vectorizer__use_idf=True, vectorizer__ngram_range=(1, 1), vectorizer__max_df=0.8, classifier__alpha=10 -   2.2s"
       ]
      },
      {
       "output_type": "stream",
       "stream": "stdout",
       "text": [
        "\n",
        "[GridSearchCV] vectorizer__use_idf=True, vectorizer__ngram_range=(1, 1), vectorizer__max_df=0.8, classifier__alpha=10 \n",
        "[GridSearchCV]  vectorizer__use_idf=True, vectorizer__ngram_range=(1, 1), vectorizer__max_df=0.8, classifier__alpha=10 -   2.0s"
       ]
      },
      {
       "output_type": "stream",
       "stream": "stdout",
       "text": [
        "\n",
        "[GridSearchCV] vectorizer__use_idf=False, vectorizer__ngram_range=(1, 1), vectorizer__max_df=0.8, classifier__alpha=10 \n",
        "[GridSearchCV]  vectorizer__use_idf=False, vectorizer__ngram_range=(1, 1), vectorizer__max_df=0.8, classifier__alpha=10 -   2.0s"
       ]
      },
      {
       "output_type": "stream",
       "stream": "stdout",
       "text": [
        "\n",
        "[GridSearchCV] vectorizer__use_idf=False, vectorizer__ngram_range=(1, 1), vectorizer__max_df=0.8, classifier__alpha=10 \n",
        "[GridSearchCV]  vectorizer__use_idf=False, vectorizer__ngram_range=(1, 1), vectorizer__max_df=0.8, classifier__alpha=10 -   1.9s"
       ]
      },
      {
       "output_type": "stream",
       "stream": "stdout",
       "text": [
        "\n",
        "[GridSearchCV] vectorizer__use_idf=False, vectorizer__ngram_range=(1, 1), vectorizer__max_df=0.8, classifier__alpha=10 \n",
        "[GridSearchCV]  vectorizer__use_idf=False, vectorizer__ngram_range=(1, 1), vectorizer__max_df=0.8, classifier__alpha=10 -   2.1s"
       ]
      },
      {
       "output_type": "stream",
       "stream": "stdout",
       "text": [
        "\n",
        "[GridSearchCV] vectorizer__use_idf=True, vectorizer__ngram_range=(1, 2), vectorizer__max_df=0.8, classifier__alpha=10 \n",
        "[GridSearchCV]  vectorizer__use_idf=True, vectorizer__ngram_range=(1, 2), vectorizer__max_df=0.8, classifier__alpha=10 -   7.7s"
       ]
      },
      {
       "output_type": "stream",
       "stream": "stdout",
       "text": [
        "\n",
        "[GridSearchCV] vectorizer__use_idf=True, vectorizer__ngram_range=(1, 2), vectorizer__max_df=0.8, classifier__alpha=10 "
       ]
      },
      {
       "output_type": "stream",
       "stream": "stdout",
       "text": [
        "\n",
        "[GridSearchCV]  vectorizer__use_idf=True, vectorizer__ngram_range=(1, 2), vectorizer__max_df=0.8, classifier__alpha=10 -   7.6s"
       ]
      },
      {
       "output_type": "stream",
       "stream": "stdout",
       "text": [
        "\n",
        "[GridSearchCV] vectorizer__use_idf=True, vectorizer__ngram_range=(1, 2), vectorizer__max_df=0.8, classifier__alpha=10 "
       ]
      },
      {
       "output_type": "stream",
       "stream": "stdout",
       "text": [
        "\n",
        "[GridSearchCV]  vectorizer__use_idf=True, vectorizer__ngram_range=(1, 2), vectorizer__max_df=0.8, classifier__alpha=10 -   8.1s"
       ]
      },
      {
       "output_type": "stream",
       "stream": "stdout",
       "text": [
        "\n",
        "[GridSearchCV] vectorizer__use_idf=False, vectorizer__ngram_range=(1, 2), vectorizer__max_df=0.8, classifier__alpha=10 "
       ]
      },
      {
       "output_type": "stream",
       "stream": "stdout",
       "text": [
        "\n",
        "[GridSearchCV]  vectorizer__use_idf=False, vectorizer__ngram_range=(1, 2), vectorizer__max_df=0.8, classifier__alpha=10 -   6.9s"
       ]
      },
      {
       "output_type": "stream",
       "stream": "stdout",
       "text": [
        "\n",
        "[GridSearchCV] vectorizer__use_idf=False, vectorizer__ngram_range=(1, 2), vectorizer__max_df=0.8, classifier__alpha=10 "
       ]
      },
      {
       "output_type": "stream",
       "stream": "stdout",
       "text": [
        "\n",
        "[GridSearchCV]  vectorizer__use_idf=False, vectorizer__ngram_range=(1, 2), vectorizer__max_df=0.8, classifier__alpha=10 -   6.9s"
       ]
      },
      {
       "output_type": "stream",
       "stream": "stdout",
       "text": [
        "\n",
        "[GridSearchCV] vectorizer__use_idf=False, vectorizer__ngram_range=(1, 2), vectorizer__max_df=0.8, classifier__alpha=10 "
       ]
      },
      {
       "output_type": "stream",
       "stream": "stdout",
       "text": [
        "\n",
        "[GridSearchCV]  vectorizer__use_idf=False, vectorizer__ngram_range=(1, 2), vectorizer__max_df=0.8, classifier__alpha=10 -   6.9s"
       ]
      },
      {
       "output_type": "stream",
       "stream": "stdout",
       "text": [
        "\n",
        "[GridSearchCV] vectorizer__use_idf=True, vectorizer__ngram_range=(1, 1), vectorizer__max_df=0.75, classifier__alpha=100 "
       ]
      },
      {
       "output_type": "stream",
       "stream": "stdout",
       "text": [
        "\n",
        "[GridSearchCV]  vectorizer__use_idf=True, vectorizer__ngram_range=(1, 1), vectorizer__max_df=0.75, classifier__alpha=100 -   2.0s"
       ]
      },
      {
       "output_type": "stream",
       "stream": "stdout",
       "text": [
        "\n",
        "[GridSearchCV] vectorizer__use_idf=True, vectorizer__ngram_range=(1, 1), vectorizer__max_df=0.75, classifier__alpha=100 \n",
        "[GridSearchCV]  vectorizer__use_idf=True, vectorizer__ngram_range=(1, 1), vectorizer__max_df=0.75, classifier__alpha=100 -   1.9s"
       ]
      },
      {
       "output_type": "stream",
       "stream": "stdout",
       "text": [
        "\n",
        "[GridSearchCV] vectorizer__use_idf=True, vectorizer__ngram_range=(1, 1), vectorizer__max_df=0.75, classifier__alpha=100 \n",
        "[GridSearchCV]  vectorizer__use_idf=True, vectorizer__ngram_range=(1, 1), vectorizer__max_df=0.75, classifier__alpha=100 -   2.0s"
       ]
      },
      {
       "output_type": "stream",
       "stream": "stdout",
       "text": [
        "\n",
        "[GridSearchCV] vectorizer__use_idf=False, vectorizer__ngram_range=(1, 1), vectorizer__max_df=0.75, classifier__alpha=100 \n",
        "[GridSearchCV]  vectorizer__use_idf=False, vectorizer__ngram_range=(1, 1), vectorizer__max_df=0.75, classifier__alpha=100 -   1.9s"
       ]
      },
      {
       "output_type": "stream",
       "stream": "stdout",
       "text": [
        "\n",
        "[GridSearchCV] vectorizer__use_idf=False, vectorizer__ngram_range=(1, 1), vectorizer__max_df=0.75, classifier__alpha=100 \n",
        "[GridSearchCV]  vectorizer__use_idf=False, vectorizer__ngram_range=(1, 1), vectorizer__max_df=0.75, classifier__alpha=100 -   2.2s"
       ]
      },
      {
       "output_type": "stream",
       "stream": "stdout",
       "text": [
        "\n",
        "[GridSearchCV] vectorizer__use_idf=False, vectorizer__ngram_range=(1, 1), vectorizer__max_df=0.75, classifier__alpha=100 \n",
        "[GridSearchCV]  vectorizer__use_idf=False, vectorizer__ngram_range=(1, 1), vectorizer__max_df=0.75, classifier__alpha=100 -   2.4s"
       ]
      },
      {
       "output_type": "stream",
       "stream": "stdout",
       "text": [
        "\n",
        "[GridSearchCV] vectorizer__use_idf=True, vectorizer__ngram_range=(1, 2), vectorizer__max_df=0.75, classifier__alpha=100 \n",
        "[GridSearchCV]  vectorizer__use_idf=True, vectorizer__ngram_range=(1, 2), vectorizer__max_df=0.75, classifier__alpha=100 -   8.0s"
       ]
      },
      {
       "output_type": "stream",
       "stream": "stdout",
       "text": [
        "\n",
        "[GridSearchCV] vectorizer__use_idf=True, vectorizer__ngram_range=(1, 2), vectorizer__max_df=0.75, classifier__alpha=100 "
       ]
      },
      {
       "output_type": "stream",
       "stream": "stdout",
       "text": [
        "\n",
        "[GridSearchCV]  vectorizer__use_idf=True, vectorizer__ngram_range=(1, 2), vectorizer__max_df=0.75, classifier__alpha=100 -   8.4s"
       ]
      },
      {
       "output_type": "stream",
       "stream": "stdout",
       "text": [
        "\n",
        "[GridSearchCV] vectorizer__use_idf=True, vectorizer__ngram_range=(1, 2), vectorizer__max_df=0.75, classifier__alpha=100 "
       ]
      },
      {
       "output_type": "stream",
       "stream": "stdout",
       "text": [
        "\n",
        "[GridSearchCV]  vectorizer__use_idf=True, vectorizer__ngram_range=(1, 2), vectorizer__max_df=0.75, classifier__alpha=100 -   7.3s"
       ]
      },
      {
       "output_type": "stream",
       "stream": "stdout",
       "text": [
        "\n",
        "[GridSearchCV] vectorizer__use_idf=False, vectorizer__ngram_range=(1, 2), vectorizer__max_df=0.75, classifier__alpha=100 "
       ]
      },
      {
       "output_type": "stream",
       "stream": "stdout",
       "text": [
        "\n",
        "[GridSearchCV]  vectorizer__use_idf=False, vectorizer__ngram_range=(1, 2), vectorizer__max_df=0.75, classifier__alpha=100 -   6.9s"
       ]
      },
      {
       "output_type": "stream",
       "stream": "stdout",
       "text": [
        "\n",
        "[GridSearchCV] vectorizer__use_idf=False, vectorizer__ngram_range=(1, 2), vectorizer__max_df=0.75, classifier__alpha=100 "
       ]
      },
      {
       "output_type": "stream",
       "stream": "stdout",
       "text": [
        "\n",
        "[GridSearchCV]  vectorizer__use_idf=False, vectorizer__ngram_range=(1, 2), vectorizer__max_df=0.75, classifier__alpha=100 -   6.8s"
       ]
      },
      {
       "output_type": "stream",
       "stream": "stdout",
       "text": [
        "\n",
        "[GridSearchCV] vectorizer__use_idf=False, vectorizer__ngram_range=(1, 2), vectorizer__max_df=0.75, classifier__alpha=100 "
       ]
      },
      {
       "output_type": "stream",
       "stream": "stdout",
       "text": [
        "\n",
        "[GridSearchCV]  vectorizer__use_idf=False, vectorizer__ngram_range=(1, 2), vectorizer__max_df=0.75, classifier__alpha=100 -   6.9s"
       ]
      },
      {
       "output_type": "stream",
       "stream": "stdout",
       "text": [
        "\n",
        "[GridSearchCV] vectorizer__use_idf=True, vectorizer__ngram_range=(1, 1), vectorizer__max_df=0.8, classifier__alpha=100 "
       ]
      },
      {
       "output_type": "stream",
       "stream": "stdout",
       "text": [
        "\n",
        "[GridSearchCV]  vectorizer__use_idf=True, vectorizer__ngram_range=(1, 1), vectorizer__max_df=0.8, classifier__alpha=100 -   2.0s"
       ]
      },
      {
       "output_type": "stream",
       "stream": "stdout",
       "text": [
        "\n",
        "[GridSearchCV] vectorizer__use_idf=True, vectorizer__ngram_range=(1, 1), vectorizer__max_df=0.8, classifier__alpha=100 \n",
        "[GridSearchCV]  vectorizer__use_idf=True, vectorizer__ngram_range=(1, 1), vectorizer__max_df=0.8, classifier__alpha=100 -   2.0s"
       ]
      },
      {
       "output_type": "stream",
       "stream": "stdout",
       "text": [
        "\n",
        "[GridSearchCV] vectorizer__use_idf=True, vectorizer__ngram_range=(1, 1), vectorizer__max_df=0.8, classifier__alpha=100 \n",
        "[GridSearchCV]  vectorizer__use_idf=True, vectorizer__ngram_range=(1, 1), vectorizer__max_df=0.8, classifier__alpha=100 -   2.0s"
       ]
      },
      {
       "output_type": "stream",
       "stream": "stdout",
       "text": [
        "\n",
        "[GridSearchCV] vectorizer__use_idf=False, vectorizer__ngram_range=(1, 1), vectorizer__max_df=0.8, classifier__alpha=100 \n",
        "[GridSearchCV]  vectorizer__use_idf=False, vectorizer__ngram_range=(1, 1), vectorizer__max_df=0.8, classifier__alpha=100 -   1.9s"
       ]
      },
      {
       "output_type": "stream",
       "stream": "stdout",
       "text": [
        "\n",
        "[GridSearchCV] vectorizer__use_idf=False, vectorizer__ngram_range=(1, 1), vectorizer__max_df=0.8, classifier__alpha=100 \n",
        "[GridSearchCV]  vectorizer__use_idf=False, vectorizer__ngram_range=(1, 1), vectorizer__max_df=0.8, classifier__alpha=100 -   1.9s"
       ]
      },
      {
       "output_type": "stream",
       "stream": "stdout",
       "text": [
        "\n",
        "[GridSearchCV] vectorizer__use_idf=False, vectorizer__ngram_range=(1, 1), vectorizer__max_df=0.8, classifier__alpha=100 \n",
        "[GridSearchCV]  vectorizer__use_idf=False, vectorizer__ngram_range=(1, 1), vectorizer__max_df=0.8, classifier__alpha=100 -   1.9s"
       ]
      },
      {
       "output_type": "stream",
       "stream": "stdout",
       "text": [
        "\n",
        "[GridSearchCV] vectorizer__use_idf=True, vectorizer__ngram_range=(1, 2), vectorizer__max_df=0.8, classifier__alpha=100 \n",
        "[GridSearchCV]  vectorizer__use_idf=True, vectorizer__ngram_range=(1, 2), vectorizer__max_df=0.8, classifier__alpha=100 -   7.2s"
       ]
      },
      {
       "output_type": "stream",
       "stream": "stdout",
       "text": [
        "\n",
        "[GridSearchCV] vectorizer__use_idf=True, vectorizer__ngram_range=(1, 2), vectorizer__max_df=0.8, classifier__alpha=100 "
       ]
      },
      {
       "output_type": "stream",
       "stream": "stdout",
       "text": [
        "\n",
        "[GridSearchCV]  vectorizer__use_idf=True, vectorizer__ngram_range=(1, 2), vectorizer__max_df=0.8, classifier__alpha=100 -   7.1s"
       ]
      },
      {
       "output_type": "stream",
       "stream": "stdout",
       "text": [
        "\n",
        "[GridSearchCV] vectorizer__use_idf=True, vectorizer__ngram_range=(1, 2), vectorizer__max_df=0.8, classifier__alpha=100 "
       ]
      },
      {
       "output_type": "stream",
       "stream": "stdout",
       "text": [
        "\n",
        "[GridSearchCV]  vectorizer__use_idf=True, vectorizer__ngram_range=(1, 2), vectorizer__max_df=0.8, classifier__alpha=100 -   8.4s"
       ]
      },
      {
       "output_type": "stream",
       "stream": "stdout",
       "text": [
        "\n",
        "[GridSearchCV] vectorizer__use_idf=False, vectorizer__ngram_range=(1, 2), vectorizer__max_df=0.8, classifier__alpha=100 "
       ]
      },
      {
       "output_type": "stream",
       "stream": "stdout",
       "text": [
        "\n",
        "[GridSearchCV]  vectorizer__use_idf=False, vectorizer__ngram_range=(1, 2), vectorizer__max_df=0.8, classifier__alpha=100 -   8.1s"
       ]
      },
      {
       "output_type": "stream",
       "stream": "stdout",
       "text": [
        "\n",
        "[GridSearchCV] vectorizer__use_idf=False, vectorizer__ngram_range=(1, 2), vectorizer__max_df=0.8, classifier__alpha=100 "
       ]
      },
      {
       "output_type": "stream",
       "stream": "stdout",
       "text": [
        "\n",
        "[GridSearchCV]  vectorizer__use_idf=False, vectorizer__ngram_range=(1, 2), vectorizer__max_df=0.8, classifier__alpha=100 -   8.5s"
       ]
      },
      {
       "output_type": "stream",
       "stream": "stdout",
       "text": [
        "\n",
        "[GridSearchCV] vectorizer__use_idf=False, vectorizer__ngram_range=(1, 2), vectorizer__max_df=0.8, classifier__alpha=100 "
       ]
      },
      {
       "output_type": "stream",
       "stream": "stdout",
       "text": [
        "\n",
        "[GridSearchCV]  vectorizer__use_idf=False, vectorizer__ngram_range=(1, 2), vectorizer__max_df=0.8, classifier__alpha=100 -   7.4s"
       ]
      },
      {
       "output_type": "stream",
       "stream": "stdout",
       "text": [
        "\n",
        "Best Score:  0.837170608868"
       ]
      },
      {
       "output_type": "stream",
       "stream": "stdout",
       "text": [
        "\n",
        "Best Params: {'vectorizer__use_idf': False, 'vectorizer__ngram_range': (1, 1), 'vectorizer__max_df': 0.75, 'classifier__alpha': 0.1}\n"
       ]
      },
      {
       "output_type": "stream",
       "stream": "stderr",
       "text": [
        "[Parallel(n_jobs=1)]: Done  96 out of  96 | elapsed:  7.6min finished\n"
       ]
      }
     ],
     "prompt_number": 179
    },
    {
     "cell_type": "code",
     "collapsed": false,
     "input": [
      "Best Score:  0.837170608868\n",
      "    \n",
      "    compare to 0.722187301427\n",
      "    \n",
      "    \n",
      "Best Params: {'vectorizer__use_idf': False,\n",
      "              'vectorizer__ngram_range': (1, 1),\n",
      "              'vectorizer__max_df': 0.75,\n",
      "              'classifier__alpha': 0.1}\n",
      "\n",
      "[Parallel(n_jobs=1)]: Done  96 out of  96 | elapsed:  7.6min finished\n"
     ],
     "language": "python",
     "metadata": {},
     "outputs": []
    },
    {
     "cell_type": "heading",
     "level": 2,
     "metadata": {},
     "source": [
      "Fit a new model"
     ]
    },
    {
     "cell_type": "code",
     "collapsed": false,
     "input": [
      "'''Performance'''\n",
      "pipe = Pipeline((\n",
      "    ('vectorizer', TfidfVectorizer(max_df=0.75, use_idf=False, stop_words='english')),\n",
      "    ('classifier', MultinomialNB(alpha=0.1)),\n",
      "))\n",
      "\n",
      "_ = pipe.fit(cb_train_small.data, cb_train_small.target)\n",
      "\n",
      "vectorizer_nm, vectorizer = pipe.steps[0]\n",
      "classifier_nm, classifier = pipe.steps[1]\n",
      "\n",
      "features = vectorizer.get_feature_names()\n",
      "targets = cb_train_small.target_names\n",
      "\n",
      "feature_weights = classifier.coef_"
     ],
     "language": "python",
     "metadata": {},
     "outputs": [],
     "prompt_number": 190
    },
    {
     "cell_type": "code",
     "collapsed": false,
     "input": [
      "feature_weights.shape"
     ],
     "language": "python",
     "metadata": {},
     "outputs": [
      {
       "metadata": {},
       "output_type": "pyout",
       "prompt_number": 191,
       "text": [
        "(4L, 73294L)"
       ]
      }
     ],
     "prompt_number": 191
    },
    {
     "cell_type": "heading",
     "level": 2,
     "metadata": {},
     "source": [
      "What are the important distinguishing words for each category?"
     ]
    },
    {
     "cell_type": "code",
     "collapsed": false,
     "input": [
      "def display_important_features(features, targets, weights, n_top=15):\n",
      "    for i, target_name in enumerate(targets):\n",
      "        print \"\"\n",
      "        print '==================================='\n",
      "        print(\"Class: \" + target_name)\n",
      "        print(\"\")\n",
      "        \n",
      "        sorted_features_indices = weights[i].argsort()[::-1]\n",
      "        \n",
      "        most_important = sorted_features_indices[:n_top]\n",
      "        print (\"Most Important: \\n\")\n",
      "        print(\", \".join(\"{0}: {1:.4f}\".format(features[j].encode('utf-8', 'replace'), weights[i, j])\n",
      "                        for j in most_important))\n",
      "        print(\"...\")\n",
      "        \n",
      "        print (\"Least Important: \\n\")\n",
      "        least_important = sorted_features_indices[-n_top:]\n",
      "        print(\", \".join(\"{0}: {1:.4f}\".format(features[j].encode('utf-8', 'replace'), weights[i, j])\n",
      "                        for j in least_important))\n",
      "        print(\"\")\n",
      "        \n",
      "display_important_features(features, targets, feature_weights)"
     ],
     "language": "python",
     "metadata": {},
     "outputs": [
      {
       "output_type": "stream",
       "stream": "stdout",
       "text": [
        "\n",
        "===================================\n",
        "Class: biotech\n",
        "\n",
        "Most Important: \n",
        "\n",
        "company: -4.1491, based: -5.0161, development: -5.0201, products: -5.0750, technology: -5.4037, treatment: -5.4217, therapeutics: -5.5356, research: -5.5392, medical: -5.5583, drug: -5.5832, clinical: -5.6171, pharmaceuticals: -5.6357, founded: -5.6486, cancer: -5.6587, diseases: -5.6923\n",
        "...\n",
        "Least Important: \n",
        "\n",
        "oma: -12.2871, om: -12.2871, olympus: -12.2871, olympics: -12.2871, olympic: -12.2871, olympians: -12.2871, olympiads: -12.2871, olympiad: -12.2871, olymp: -12.2871, olx: -12.2871, olu\u00e5\u00ffturur: -12.2871, olur: -12.2871, olup: -12.2871, oltremare: -12.2871, 00: -12.2871\n",
        "\n",
        "\n",
        "===================================\n",
        "Class: ecommerce\n",
        "\n",
        "Most Important: \n",
        "\n",
        "online: -4.2340, com: -4.9231, products: -5.1555, ecommerce: -5.1792, commerce: -5.2778, company: -5.2939, web: -5.3134, 8217: -5.3399, shopping: -5.3467, social: -5.5032, business: -5.5494, services: -5.5840, design: -5.6834, website: -5.7058, service: -5.7117\n",
        "...\n",
        "Least Important: \n",
        "\n",
        "micropreneur: -12.8304, microplates: -12.8304, microplate: -12.8304, microphones: -12.8304, microphone: -12.8304, microphilanthropy: -12.8304, microphage: -12.8304, micropattern: -12.8304, microparticles: -12.8304, microparticle: -12.8304, micropact: -12.8304, microorganisms: -12.8304, micronutrients: -12.8304, microns: -12.8304, \ufb01rst: -12.8304\n",
        "\n",
        "\n",
        "===================================\n",
        "Class: education\n",
        "\n",
        "Most Important: \n",
        "\n",
        "education: -4.6225, learning: -4.9933, online: -5.0966, students: -5.1166, training: -5.2445, company: -5.4757, school: -5.5423, mobile: -5.6069, apps: -5.7941, 8217: -5.8101, applications: -5.9127, educational: -5.9134, based: -5.9322, platform: -5.9356, business: -5.9858\n",
        "...\n",
        "Least Important: \n",
        "\n",
        "navigable: -12.0903, naurex: -12.0903, navideck: -12.0903, navidad: -12.0903, naves: -12.0903, naver: -12.0903, naveen: -12.0903, navayuga: -12.0903, navarra: -12.0903, naval: -12.0903, nautilus: -12.0903, nautical: -12.0903, nausea: -12.0903, naurex\u00e2: -12.0903, \ufb01rst: -12.0903\n",
        "\n",
        "\n",
        "===================================\n",
        "Class: software\n",
        "\n",
        "Most Important: \n",
        "\n",
        "software: -3.9011, development: -4.5728, web: -4.6324, company: -4.7479, management: -4.7845, solutions: -4.8339, mobile: -4.9307, services: -5.0105, business: -5.0564, based: -5.1040, technology: -5.2855, data: -5.3205, online: -5.4612, 8217: -5.5069, design: -5.5137\n",
        "...\n",
        "Least Important: \n",
        "\n",
        "f\u00f6retag: -13.5012, f\u00f6retaget: -13.5012, f\u00f6retagsv\u00e4rdering: -13.5012, f\u00fchren: -13.5012, f\u00fchrungskr\u00e4fte: -13.5012, verhuur: -13.5012, g12e: -13.5012, g2: -13.5012, g28: -13.5012, quarries: -13.5012, g31p: -13.5012, quark\u00e2: -13.5012, g8: -13.5012, wishcast: -13.5012, intelligenti: -13.5012\n",
        "\n"
       ]
      }
     ],
     "prompt_number": 192
    },
    {
     "cell_type": "code",
     "collapsed": false,
     "input": [
      "from sklearn.metrics import classification_report\n",
      "\n",
      "predicted_vals = pipe.predict(cb_test_small.data)"
     ],
     "language": "python",
     "metadata": {},
     "outputs": [],
     "prompt_number": 193
    },
    {
     "cell_type": "heading",
     "level": 2,
     "metadata": {},
     "source": [
      "Numbers!"
     ]
    },
    {
     "cell_type": "code",
     "collapsed": false,
     "input": [
      "print(classification_report(cb_test_small.target, predicted_vals,\n",
      "                            target_names=cb_test_small.target_names))"
     ],
     "language": "python",
     "metadata": {},
     "outputs": [
      {
       "output_type": "stream",
       "stream": "stdout",
       "text": [
        "             precision    recall  f1-score   support\n",
        "\n",
        "    biotech       0.98      0.77      0.86      1829\n",
        "  ecommerce       0.93      0.71      0.81      3406\n",
        "  education       0.93      0.49      0.64      1003\n",
        "   software       0.73      0.97      0.83      5003\n",
        "\n",
        "avg / total       0.85      0.82      0.81     11241\n",
        "\n"
       ]
      }
     ],
     "prompt_number": 194
    },
    {
     "cell_type": "code",
     "collapsed": false,
     "input": [
      "from sklearn.metrics import confusion_matrix\n",
      "\n",
      "confusion_matrix(cb_test_small.target, predicted_vals)"
     ],
     "language": "python",
     "metadata": {},
     "outputs": [
      {
       "metadata": {},
       "output_type": "pyout",
       "prompt_number": 185,
       "text": [
        "array([[1404,   22,    3,  400],\n",
        "       [  15, 2431,   10,  950],\n",
        "       [   5,   54,  487,  457],\n",
        "       [  10,   98,   26, 4869]])"
       ]
      }
     ],
     "prompt_number": 185
    },
    {
     "cell_type": "code",
     "collapsed": false,
     "input": [],
     "language": "python",
     "metadata": {},
     "outputs": []
    }
   ],
   "metadata": {}
  }
 ]
}